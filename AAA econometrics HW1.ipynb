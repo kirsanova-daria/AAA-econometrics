{
  "cells": [
    {
      "cell_type": "markdown",
      "metadata": {
        "id": "PQg8UjB3wOPS"
      },
      "source": [
        "# Академия Аналитиков Авито"
      ]
    },
    {
      "cell_type": "markdown",
      "metadata": {
        "id": "f6jG7jbawOPV"
      },
      "source": [
        "# Эконометрика"
      ]
    },
    {
      "cell_type": "markdown",
      "metadata": {
        "id": "7LijNbFbwOPX"
      },
      "source": [
        "# Домашняя работа №1"
      ]
    },
    {
      "cell_type": "markdown",
      "metadata": {
        "id": "UzFbM_s6wOPX"
      },
      "source": [
        "## №1 (20 баллов)"
      ]
    },
    {
      "cell_type": "markdown",
      "metadata": {
        "id": "B0m2hhpDwOPZ"
      },
      "source": [
        "- Задача минимизации для множественной регресии выглядит вот так:\n",
        "$$(Y - X\\hat{\\beta})'(Y - X\\hat{\\beta}) \\rightarrow \\min_{\\hat{\\beta}}$$\n",
        "- Решите эту задачу минимизации и выведите формулу для оценок коэффициентов $\\hat{\\beta}$"
      ]
    },
    {
      "cell_type": "markdown",
      "metadata": {
        "id": "AcM38yC-wOPa"
      },
      "source": [
        "$Q(\\hat{\\beta})=(Y - X\\hat{\\beta})'(Y - X\\hat{\\beta})=Y'Y-Y'X\\hat{\\beta}+\\hat{\\beta}'(X'X)\\hat{\\beta}-\\hat{\\beta}'X'Y=Y'Y+\\hat{\\beta}'(X'X)\\hat{\\beta}-2\\hat{\\beta}'X'Y$\n",
        "\n",
        "$FOC: \\frac{dQ(\\hat{\\beta})}{d\\hat{\\beta}}=2(X'X)\\hat{\\beta}-2X'Y=0$\n",
        "\n",
        "$(X'X)\\hat{\\beta}=X'Y$\n",
        "\n",
        "$\\hat{\\beta}=(X'X)^{-1}X'Y$"
      ]
    },
    {
      "cell_type": "markdown",
      "metadata": {
        "id": "mNNk40mKwOPa"
      },
      "source": [
        "## №2 (40 баллов)"
      ]
    },
    {
      "cell_type": "markdown",
      "metadata": {
        "id": "GmvivjSMwOPb"
      },
      "source": [
        "![image.png](attachment:image.png)"
      ]
    },
    {
      "cell_type": "markdown",
      "metadata": {
        "id": "oNtawLNZwOPd"
      },
      "source": [
        "- У нас есть следующий датасет (`HW_001_001.csv`)\n",
        "- Нам хочется понять, насколько уровень загрязнения воздуха (диоксид азота $NO_2$ в данном случае) влияет на результаты тестов внимания школьников. В данном домашнем задании будем смотреть на **время реакции**.\n",
        "- Данные собирались в течение периода с января 2012 г. по март 2013 г. в Барселоне. В исследовании приняли участие 39 школ.\n",
        "    - `react` - время реакции (ms)\n",
        "    - `correct` - количество верных ответов\n",
        "    - `omissions` - были ли тест не сдан\n",
        "    - `no2_class` - уровень $NO_2$ в классе\n",
        "    - `no2_home` - уровень $NO_2$ дома\n",
        "    - `age` - возраст на момент исследования\n",
        "    - `age0` - возраст поступления в школу\n",
        "    - `sex` - пол\n",
        "    - `grade` - класс\n",
        "    - `overweight` - степень ожирения согласно ВОЗ\n",
        "    - `lbweight` - весовая категория при рождении\n",
        "    - `breastfeed` - продолжительность кормления грудью\n",
        "    - `msmoke` - курила ли мать во время беременности\n",
        "    - `meducation` - уровень образования матери\n",
        "    - `feducation` - уровень образования отца\n",
        "    - `siblings_old` - количество братьев\\сестер старшего возраста\n",
        "    - `siblings_old` - количество братьев\\сестер младшего возраста\n",
        "    - `sev_home` - социально-экономический индекс домашнего района\n",
        "    - `green_home` - [степень озеленения домашнего района](https://earthobservatory.nasa.gov/features/MeasuringVegetation/measuring_vegetation_2.php#:~:text=Normalized%20Difference%20Vegetation%20Index%20(NDVI,up%20the%20spectrum%20of%20sunlight)\n",
        "    - `noise_school` - уровень шума в школе (дБ)\n",
        "    - `sev_school` - социально-экономический индекс школы\n",
        "    - `precip` - осадки"
      ]
    },
    {
      "cell_type": "code",
      "execution_count": 1,
      "metadata": {
        "ExecuteTime": {
          "end_time": "2022-08-08T15:31:12.713085Z",
          "start_time": "2022-08-08T15:31:11.903095Z"
        },
        "id": "7tBflTfIwOPe"
      },
      "outputs": [],
      "source": [
        "import pandas as pd"
      ]
    },
    {
      "cell_type": "code",
      "execution_count": 47,
      "metadata": {
        "ExecuteTime": {
          "end_time": "2022-08-08T15:31:12.775110Z",
          "start_time": "2022-08-08T15:31:12.739095Z"
        },
        "id": "oDs-DO9qwOPg"
      },
      "outputs": [],
      "source": [
        "df_matrix = pd.read_csv('HW_001_001.csv')"
      ]
    },
    {
      "cell_type": "code",
      "source": [
        "df=df_matrix.dropna()"
      ],
      "metadata": {
        "id": "7WVkS863SFup"
      },
      "execution_count": 48,
      "outputs": []
    },
    {
      "cell_type": "code",
      "source": [
        "df.insert(1,'male', pd.get_dummies(df['sex'])['Male'])"
      ],
      "metadata": {
        "colab": {
          "base_uri": "https://localhost:8080/",
          "height": 300
        },
        "id": "EVPwpTT9UK3O",
        "outputId": "e12b4412-e177-4340-a593-2d61334911d2"
      },
      "execution_count": 89,
      "outputs": [
        {
          "output_type": "error",
          "ename": "ValueError",
          "evalue": "ignored",
          "traceback": [
            "\u001b[0;31m---------------------------------------------------------------------------\u001b[0m",
            "\u001b[0;31mValueError\u001b[0m                                Traceback (most recent call last)",
            "\u001b[0;32m<ipython-input-89-df3d7bda684c>\u001b[0m in \u001b[0;36m<module>\u001b[0;34m\u001b[0m\n\u001b[0;32m----> 1\u001b[0;31m \u001b[0mdf\u001b[0m\u001b[0;34m.\u001b[0m\u001b[0minsert\u001b[0m\u001b[0;34m(\u001b[0m\u001b[0;36m1\u001b[0m\u001b[0;34m,\u001b[0m\u001b[0;34m'male'\u001b[0m\u001b[0;34m,\u001b[0m \u001b[0mpd\u001b[0m\u001b[0;34m.\u001b[0m\u001b[0mget_dummies\u001b[0m\u001b[0;34m(\u001b[0m\u001b[0mdf\u001b[0m\u001b[0;34m[\u001b[0m\u001b[0;34m'sex'\u001b[0m\u001b[0;34m]\u001b[0m\u001b[0;34m)\u001b[0m\u001b[0;34m[\u001b[0m\u001b[0;34m'Male'\u001b[0m\u001b[0;34m]\u001b[0m\u001b[0;34m)\u001b[0m\u001b[0;34m\u001b[0m\u001b[0;34m\u001b[0m\u001b[0m\n\u001b[0m\u001b[1;32m      2\u001b[0m \u001b[0mdf\u001b[0m\u001b[0;34m.\u001b[0m\u001b[0mdrop\u001b[0m\u001b[0;34m(\u001b[0m\u001b[0;34m[\u001b[0m\u001b[0;34m'sex'\u001b[0m\u001b[0;34m]\u001b[0m\u001b[0;34m,\u001b[0m \u001b[0maxis\u001b[0m\u001b[0;34m=\u001b[0m\u001b[0;36m1\u001b[0m\u001b[0;34m)\u001b[0m\u001b[0;34m\u001b[0m\u001b[0;34m\u001b[0m\u001b[0m\n",
            "\u001b[0;32m/usr/local/lib/python3.8/dist-packages/pandas/core/frame.py\u001b[0m in \u001b[0;36minsert\u001b[0;34m(self, loc, column, value, allow_duplicates)\u001b[0m\n\u001b[1;32m   4412\u001b[0m         \u001b[0;32mif\u001b[0m \u001b[0;32mnot\u001b[0m \u001b[0mallow_duplicates\u001b[0m \u001b[0;32mand\u001b[0m \u001b[0mcolumn\u001b[0m \u001b[0;32min\u001b[0m \u001b[0mself\u001b[0m\u001b[0;34m.\u001b[0m\u001b[0mcolumns\u001b[0m\u001b[0;34m:\u001b[0m\u001b[0;34m\u001b[0m\u001b[0;34m\u001b[0m\u001b[0m\n\u001b[1;32m   4413\u001b[0m             \u001b[0;31m# Should this be a different kind of error??\u001b[0m\u001b[0;34m\u001b[0m\u001b[0;34m\u001b[0m\u001b[0;34m\u001b[0m\u001b[0m\n\u001b[0;32m-> 4414\u001b[0;31m             \u001b[0;32mraise\u001b[0m \u001b[0mValueError\u001b[0m\u001b[0;34m(\u001b[0m\u001b[0;34mf\"cannot insert {column}, already exists\"\u001b[0m\u001b[0;34m)\u001b[0m\u001b[0;34m\u001b[0m\u001b[0;34m\u001b[0m\u001b[0m\n\u001b[0m\u001b[1;32m   4415\u001b[0m         \u001b[0;32mif\u001b[0m \u001b[0;32mnot\u001b[0m \u001b[0misinstance\u001b[0m\u001b[0;34m(\u001b[0m\u001b[0mloc\u001b[0m\u001b[0;34m,\u001b[0m \u001b[0mint\u001b[0m\u001b[0;34m)\u001b[0m\u001b[0;34m:\u001b[0m\u001b[0;34m\u001b[0m\u001b[0;34m\u001b[0m\u001b[0m\n\u001b[1;32m   4416\u001b[0m             \u001b[0;32mraise\u001b[0m \u001b[0mTypeError\u001b[0m\u001b[0;34m(\u001b[0m\u001b[0;34m\"loc must be int\"\u001b[0m\u001b[0;34m)\u001b[0m\u001b[0;34m\u001b[0m\u001b[0;34m\u001b[0m\u001b[0m\n",
            "\u001b[0;31mValueError\u001b[0m: cannot insert male, already exists"
          ]
        }
      ]
    },
    {
      "cell_type": "code",
      "source": [
        "#pd.get_dummies(df_matrix['grade'])\n",
        "df.insert(1, \"2nd\", pd.get_dummies(df['grade'])['2nd'])\n",
        "df.insert(1, \"3rd\", pd.get_dummies(df['grade'])['3rd'])\n",
        "df.insert(1, \"4th\", pd.get_dummies(df['grade'])['4th'])"
      ],
      "metadata": {
        "id": "nxd9XcCVS-1W"
      },
      "execution_count": 60,
      "outputs": []
    },
    {
      "cell_type": "code",
      "source": [
        "df.insert(1, 'normalweight', pd.get_dummies(df['overweight'])['Normal weight'])"
      ],
      "metadata": {
        "id": "FjHRgTprW8j3"
      },
      "execution_count": 65,
      "outputs": []
    },
    {
      "cell_type": "code",
      "source": [
        "df.insert(1, 'normalbweight',pd.get_dummies(df['lbweight'])['Normal birthweight'])"
      ],
      "metadata": {
        "id": "a5BRu_yPXm-T"
      },
      "execution_count": 67,
      "outputs": []
    },
    {
      "cell_type": "code",
      "source": [
        "df.insert(1, '<6m',pd.get_dummies(df['breastfeed'])['<6 months'])\n",
        "df.insert(1, '>6m',pd.get_dummies(df['breastfeed'])['>6 months'])\n",
        "df.insert(1, 'no_breastfeed',pd.get_dummies(df['breastfeed'])['No breastfeeding'])"
      ],
      "metadata": {
        "id": "wXBQxAkMX4hJ"
      },
      "execution_count": 70,
      "outputs": []
    },
    {
      "cell_type": "code",
      "source": [
        "df.insert(1, 'smoke', pd.get_dummies(df['msmoke'])['Smoking'])"
      ],
      "metadata": {
        "id": "HvRfpxEWYzHt"
      },
      "execution_count": 72,
      "outputs": []
    },
    {
      "cell_type": "code",
      "source": [
        "for col in pd.get_dummies(df['meducation']).columns:\n",
        "  df.insert(1, col,pd.get_dummies(df['meducation'])[col])"
      ],
      "metadata": {
        "id": "Mx-nVPJpZDbd"
      },
      "execution_count": 77,
      "outputs": []
    },
    {
      "cell_type": "code",
      "source": [
        "for col in pd.get_dummies(df['feducation']).columns:\n",
        "  df.insert(1, f'f_{col}',pd.get_dummies(df['feducation'])[col])"
      ],
      "metadata": {
        "id": "oEX3xc0-Zj-v"
      },
      "execution_count": 80,
      "outputs": []
    },
    {
      "cell_type": "code",
      "source": [
        "# уберем лишние столбцы\n",
        "df=df.drop(['sex', 'grade', 'overweight', 'lbweight', 'breastfeed', 'msmoke', 'meducation', 'feducation'], axis=1)"
      ],
      "metadata": {
        "id": "wFf1aisSa2v7"
      },
      "execution_count": 92,
      "outputs": []
    },
    {
      "cell_type": "code",
      "source": [
        "# также уберем столбцы, которые отражают результаты тестов, но не используются в качестве целевых\n",
        "df=df.drop(['correct', 'omissions'], axis=1)"
      ],
      "metadata": {
        "id": "SL7QLZ3oibrN"
      },
      "execution_count": 111,
      "outputs": []
    },
    {
      "cell_type": "markdown",
      "metadata": {
        "ExecuteTime": {
          "end_time": "2021-02-09T14:34:28.150015Z",
          "start_time": "2021-02-09T14:34:28.093014Z"
        },
        "id": "Ph-rWCigwOPg"
      },
      "source": [
        "- Во-первых, посмотрите на описательные статистики"
      ]
    },
    {
      "cell_type": "code",
      "execution_count": 97,
      "metadata": {
        "colab": {
          "base_uri": "https://localhost:8080/",
          "height": 297
        },
        "id": "RaqLHpFgwOPh",
        "outputId": "a0e42f90-71fd-4cc6-bc56-cc7a641b017a"
      },
      "outputs": [
        {
          "output_type": "execute_result",
          "data": {
            "text/plain": [
              "             react    no2_class     no2_home\n",
              "count  1036.000000  1036.000000  1036.000000\n",
              "mean    742.322145    30.189140    54.965084\n",
              "std     144.423757     9.897280    17.999733\n",
              "min     434.071429     7.794096     2.076335\n",
              "25%     635.212417    22.818430    44.670537\n",
              "50%     719.000226    29.910335    54.364584\n",
              "75%     838.756218    37.234077    62.053890\n",
              "max    1303.259843    52.563970   118.656770"
            ],
            "text/html": [
              "\n",
              "  <div id=\"df-a84a0450-18e4-47a1-9a8c-2ef62b5a2aab\">\n",
              "    <div class=\"colab-df-container\">\n",
              "      <div>\n",
              "<style scoped>\n",
              "    .dataframe tbody tr th:only-of-type {\n",
              "        vertical-align: middle;\n",
              "    }\n",
              "\n",
              "    .dataframe tbody tr th {\n",
              "        vertical-align: top;\n",
              "    }\n",
              "\n",
              "    .dataframe thead th {\n",
              "        text-align: right;\n",
              "    }\n",
              "</style>\n",
              "<table border=\"1\" class=\"dataframe\">\n",
              "  <thead>\n",
              "    <tr style=\"text-align: right;\">\n",
              "      <th></th>\n",
              "      <th>react</th>\n",
              "      <th>no2_class</th>\n",
              "      <th>no2_home</th>\n",
              "    </tr>\n",
              "  </thead>\n",
              "  <tbody>\n",
              "    <tr>\n",
              "      <th>count</th>\n",
              "      <td>1036.000000</td>\n",
              "      <td>1036.000000</td>\n",
              "      <td>1036.000000</td>\n",
              "    </tr>\n",
              "    <tr>\n",
              "      <th>mean</th>\n",
              "      <td>742.322145</td>\n",
              "      <td>30.189140</td>\n",
              "      <td>54.965084</td>\n",
              "    </tr>\n",
              "    <tr>\n",
              "      <th>std</th>\n",
              "      <td>144.423757</td>\n",
              "      <td>9.897280</td>\n",
              "      <td>17.999733</td>\n",
              "    </tr>\n",
              "    <tr>\n",
              "      <th>min</th>\n",
              "      <td>434.071429</td>\n",
              "      <td>7.794096</td>\n",
              "      <td>2.076335</td>\n",
              "    </tr>\n",
              "    <tr>\n",
              "      <th>25%</th>\n",
              "      <td>635.212417</td>\n",
              "      <td>22.818430</td>\n",
              "      <td>44.670537</td>\n",
              "    </tr>\n",
              "    <tr>\n",
              "      <th>50%</th>\n",
              "      <td>719.000226</td>\n",
              "      <td>29.910335</td>\n",
              "      <td>54.364584</td>\n",
              "    </tr>\n",
              "    <tr>\n",
              "      <th>75%</th>\n",
              "      <td>838.756218</td>\n",
              "      <td>37.234077</td>\n",
              "      <td>62.053890</td>\n",
              "    </tr>\n",
              "    <tr>\n",
              "      <th>max</th>\n",
              "      <td>1303.259843</td>\n",
              "      <td>52.563970</td>\n",
              "      <td>118.656770</td>\n",
              "    </tr>\n",
              "  </tbody>\n",
              "</table>\n",
              "</div>\n",
              "      <button class=\"colab-df-convert\" onclick=\"convertToInteractive('df-a84a0450-18e4-47a1-9a8c-2ef62b5a2aab')\"\n",
              "              title=\"Convert this dataframe to an interactive table.\"\n",
              "              style=\"display:none;\">\n",
              "        \n",
              "  <svg xmlns=\"http://www.w3.org/2000/svg\" height=\"24px\"viewBox=\"0 0 24 24\"\n",
              "       width=\"24px\">\n",
              "    <path d=\"M0 0h24v24H0V0z\" fill=\"none\"/>\n",
              "    <path d=\"M18.56 5.44l.94 2.06.94-2.06 2.06-.94-2.06-.94-.94-2.06-.94 2.06-2.06.94zm-11 1L8.5 8.5l.94-2.06 2.06-.94-2.06-.94L8.5 2.5l-.94 2.06-2.06.94zm10 10l.94 2.06.94-2.06 2.06-.94-2.06-.94-.94-2.06-.94 2.06-2.06.94z\"/><path d=\"M17.41 7.96l-1.37-1.37c-.4-.4-.92-.59-1.43-.59-.52 0-1.04.2-1.43.59L10.3 9.45l-7.72 7.72c-.78.78-.78 2.05 0 2.83L4 21.41c.39.39.9.59 1.41.59.51 0 1.02-.2 1.41-.59l7.78-7.78 2.81-2.81c.8-.78.8-2.07 0-2.86zM5.41 20L4 18.59l7.72-7.72 1.47 1.35L5.41 20z\"/>\n",
              "  </svg>\n",
              "      </button>\n",
              "      \n",
              "  <style>\n",
              "    .colab-df-container {\n",
              "      display:flex;\n",
              "      flex-wrap:wrap;\n",
              "      gap: 12px;\n",
              "    }\n",
              "\n",
              "    .colab-df-convert {\n",
              "      background-color: #E8F0FE;\n",
              "      border: none;\n",
              "      border-radius: 50%;\n",
              "      cursor: pointer;\n",
              "      display: none;\n",
              "      fill: #1967D2;\n",
              "      height: 32px;\n",
              "      padding: 0 0 0 0;\n",
              "      width: 32px;\n",
              "    }\n",
              "\n",
              "    .colab-df-convert:hover {\n",
              "      background-color: #E2EBFA;\n",
              "      box-shadow: 0px 1px 2px rgba(60, 64, 67, 0.3), 0px 1px 3px 1px rgba(60, 64, 67, 0.15);\n",
              "      fill: #174EA6;\n",
              "    }\n",
              "\n",
              "    [theme=dark] .colab-df-convert {\n",
              "      background-color: #3B4455;\n",
              "      fill: #D2E3FC;\n",
              "    }\n",
              "\n",
              "    [theme=dark] .colab-df-convert:hover {\n",
              "      background-color: #434B5C;\n",
              "      box-shadow: 0px 1px 3px 1px rgba(0, 0, 0, 0.15);\n",
              "      filter: drop-shadow(0px 1px 2px rgba(0, 0, 0, 0.3));\n",
              "      fill: #FFFFFF;\n",
              "    }\n",
              "  </style>\n",
              "\n",
              "      <script>\n",
              "        const buttonEl =\n",
              "          document.querySelector('#df-a84a0450-18e4-47a1-9a8c-2ef62b5a2aab button.colab-df-convert');\n",
              "        buttonEl.style.display =\n",
              "          google.colab.kernel.accessAllowed ? 'block' : 'none';\n",
              "\n",
              "        async function convertToInteractive(key) {\n",
              "          const element = document.querySelector('#df-a84a0450-18e4-47a1-9a8c-2ef62b5a2aab');\n",
              "          const dataTable =\n",
              "            await google.colab.kernel.invokeFunction('convertToInteractive',\n",
              "                                                     [key], {});\n",
              "          if (!dataTable) return;\n",
              "\n",
              "          const docLinkHtml = 'Like what you see? Visit the ' +\n",
              "            '<a target=\"_blank\" href=https://colab.research.google.com/notebooks/data_table.ipynb>data table notebook</a>'\n",
              "            + ' to learn more about interactive tables.';\n",
              "          element.innerHTML = '';\n",
              "          dataTable['output_type'] = 'display_data';\n",
              "          await google.colab.output.renderOutput(dataTable, element);\n",
              "          const docLink = document.createElement('div');\n",
              "          docLink.innerHTML = docLinkHtml;\n",
              "          element.appendChild(docLink);\n",
              "        }\n",
              "      </script>\n",
              "    </div>\n",
              "  </div>\n",
              "  "
            ]
          },
          "metadata": {},
          "execution_count": 97
        }
      ],
      "source": [
        "df[['react', 'no2_class', 'no2_home']].describe()"
      ]
    },
    {
      "cell_type": "code",
      "source": [
        "144.423757/742.322145"
      ],
      "metadata": {
        "colab": {
          "base_uri": "https://localhost:8080/"
        },
        "id": "y9E8IvVi1TzO",
        "outputId": "765d9095-0247-41b8-ca07-34135d3d85e1"
      },
      "execution_count": 95,
      "outputs": [
        {
          "output_type": "execute_result",
          "data": {
            "text/plain": [
              "0.194556713648897"
            ]
          },
          "metadata": {},
          "execution_count": 95
        }
      ]
    },
    {
      "cell_type": "code",
      "source": [
        "9.895886/30.167792"
      ],
      "metadata": {
        "colab": {
          "base_uri": "https://localhost:8080/"
        },
        "id": "UfNUKF0-EW4_",
        "outputId": "29875a05-e63f-4702-f023-d2a0cce6ac4e"
      },
      "execution_count": 5,
      "outputs": [
        {
          "output_type": "execute_result",
          "data": {
            "text/plain": [
              "0.3280281831696533"
            ]
          },
          "metadata": {},
          "execution_count": 5
        }
      ]
    },
    {
      "cell_type": "code",
      "source": [
        "18.047859/54.718322"
      ],
      "metadata": {
        "colab": {
          "base_uri": "https://localhost:8080/"
        },
        "id": "GP1PRrbPFCl0",
        "outputId": "242b7879-4a90-4b2d-fd16-654c37b476e7"
      },
      "execution_count": 6,
      "outputs": [
        {
          "output_type": "execute_result",
          "data": {
            "text/plain": [
              "0.3298320990179487"
            ]
          },
          "metadata": {},
          "execution_count": 6
        }
      ]
    },
    {
      "cell_type": "markdown",
      "metadata": {
        "id": "03F0P-c0wOPh"
      },
      "source": [
        "- Какие выводы вы можете сделать?"
      ]
    },
    {
      "cell_type": "markdown",
      "metadata": {
        "id": "tlLNHYnUwOPh"
      },
      "source": [
        "- Будем смотреть на целевую переменную react и переменные, влияние которых хотим оценить - связанные с уровнем NO2\n",
        "\n",
        "- react:\n",
        "  \n",
        "    - коэффициент вариации std/mean = 20% < 33%, то есть данные однородные\n",
        "\n",
        "    - медиана < среднего => распределение смещено вправо\n",
        "\n",
        "- no2_class:\n",
        "\n",
        "    - коэффициент вариации = 33% - распределение не очень однородное\n",
        "\n",
        "    - медиана < среднего, но не значительно\n",
        "\n",
        "- no2_home:\n",
        "\n",
        "    - коэффициент вариации = 33% - распределение не очень однородное\n",
        "\n",
        "    - медиана < среднего, но не значительно"
      ]
    },
    {
      "cell_type": "markdown",
      "metadata": {
        "id": "tx8wRN35wOPh"
      },
      "source": [
        "- Во-вторых, надо бы нарисовать что-нибудь\n",
        "- С какой переменной вы бы начали? Какой график бы использовали?\n",
        "- Нарисуйте "
      ]
    },
    {
      "cell_type": "markdown",
      "metadata": {
        "id": "VdpiCXMowOPi"
      },
      "source": [
        "- Какой вывод вы можете сделать?"
      ]
    },
    {
      "cell_type": "code",
      "execution_count": 7,
      "metadata": {
        "ExecuteTime": {
          "end_time": "2021-02-09T14:34:28.428013Z",
          "start_time": "2021-02-09T14:34:28.153016Z"
        },
        "id": "Ibi_JA3owOPi"
      },
      "outputs": [],
      "source": [
        "import matplotlib.pyplot as plt"
      ]
    },
    {
      "cell_type": "code",
      "source": [
        "#plt.hist(df_matrix['react'])\n",
        "n, bins, patches = plt.hist(df_matrix['react'], 50,\n",
        "                            density = 1, \n",
        "                            color ='green',\n",
        "                            alpha = 0.7)\n",
        "plt.title('Гистограмма распределения времени реакции react',\n",
        "          fontweight =\"bold\")\n",
        "  \n",
        "plt.show()"
      ],
      "metadata": {
        "colab": {
          "base_uri": "https://localhost:8080/",
          "height": 281
        },
        "id": "WFSrB2buGraC",
        "outputId": "8aef095b-2c2c-4e82-9324-92a924c72d09"
      },
      "execution_count": 16,
      "outputs": [
        {
          "output_type": "display_data",
          "data": {
            "text/plain": [
              "<Figure size 432x288 with 1 Axes>"
            ],
            "image/png": "[encoded data removed]"
          },
          "metadata": {
            "needs_background": "light"
          }
        }
      ]
    },
    {
      "cell_type": "markdown",
      "metadata": {
        "id": "NIeftLP7wOPi"
      },
      "source": [
        "Сначала посмотрим на распределение зависимой переменной. Как и предполагали ранее, распределение смещено; оно не похоже на нормальное, но это не страшно, ведь в теореме Г.-М. нет предпосылки о нормальности"
      ]
    },
    {
      "cell_type": "code",
      "source": [
        "n, bins, patches = plt.hist(df_matrix['no2_class'],13,\n",
        "                            density = 1, \n",
        "                            color ='green',\n",
        "                            alpha = 0.7)\n",
        "plt.title('Гистограмма распределения уровня NO2 в классе no2_class',\n",
        "          fontweight =\"bold\")\n",
        "  \n",
        "plt.show()"
      ],
      "metadata": {
        "colab": {
          "base_uri": "https://localhost:8080/",
          "height": 281
        },
        "id": "lLAPgoPsJkx-",
        "outputId": "23a84084-82cf-4f63-ffb0-a084a234e48d"
      },
      "execution_count": 38,
      "outputs": [
        {
          "output_type": "display_data",
          "data": {
            "text/plain": [
              "<Figure size 432x288 with 1 Axes>"
            ],
            "image/png": "[encoded data removed]"
          },
          "metadata": {
            "needs_background": "light"
          }
        }
      ]
    },
    {
      "cell_type": "markdown",
      "source": [
        "Гистограмма распределения NO2 в классе визуально отличается от двух других графиков: все дети одного класса будут иметь одинаковое значение no2_class, что делает распределение менее вариативным. Это распределение нельзя назвать гладким."
      ],
      "metadata": {
        "id": "IJZCURvgLBDv"
      }
    },
    {
      "cell_type": "code",
      "source": [
        "n, bins, patches = plt.hist(df_matrix['no2_home'],50,\n",
        "                            density = 1, \n",
        "                            color ='green',\n",
        "                            alpha = 0.7)\n",
        "plt.title('Гистограмма распределения уровня NO2 дома no2_home',\n",
        "          fontweight =\"bold\")\n",
        "  \n",
        "plt.show()"
      ],
      "metadata": {
        "colab": {
          "base_uri": "https://localhost:8080/",
          "height": 281
        },
        "id": "UFYj5GpqKnlT",
        "outputId": "acec9464-2c59-494f-ac10-2bedf0986d9b"
      },
      "execution_count": 31,
      "outputs": [
        {
          "output_type": "display_data",
          "data": {
            "text/plain": [
              "<Figure size 432x288 with 1 Axes>"
            ],
            "image/png": "[encoded data removed]"
          },
          "metadata": {
            "needs_background": "light"
          }
        }
      ]
    },
    {
      "cell_type": "markdown",
      "source": [
        "Распределение выглядит симметричным. Также оно островершинно, что говорит о том, что разброс данных не большой и они сосредочены в районе среднего. При этом можно предположить, что у этого распределения тяжелый правый хвост. "
      ],
      "metadata": {
        "id": "2dP3JoS2LHBi"
      }
    },
    {
      "cell_type": "code",
      "source": [
        "plt.scatter(df['react'], df['no2_class'])\n",
        "plt.ylabel('no2_class')\n",
        "plt.xlabel('react')\n",
        "plt.show()"
      ],
      "metadata": {
        "colab": {
          "base_uri": "https://localhost:8080/",
          "height": 279
        },
        "id": "-oOHBwAinBPK",
        "outputId": "dd44fb4f-4ed1-4116-bc22-548ab04d4d75"
      },
      "execution_count": 124,
      "outputs": [
        {
          "output_type": "display_data",
          "data": {
            "text/plain": [
              "<Figure size 432x288 with 1 Axes>"
            ],
            "image/png": "[encoded data removed]"
          },
          "metadata": {
            "needs_background": "light"
          }
        }
      ]
    },
    {
      "cell_type": "code",
      "source": [
        "plt.scatter(df['react'], df['no2_home'])\n",
        "plt.ylabel('no2_home')\n",
        "plt.xlabel('react')\n",
        "plt.show()"
      ],
      "metadata": {
        "colab": {
          "base_uri": "https://localhost:8080/",
          "height": 279
        },
        "id": "bBkWRcWynT_L",
        "outputId": "f32f64bf-2593-4a21-c870-61e7f9a4bf17"
      },
      "execution_count": 125,
      "outputs": [
        {
          "output_type": "display_data",
          "data": {
            "text/plain": [
              "<Figure size 432x288 with 1 Axes>"
            ],
            "image/png": "[encoded data removed]"
          },
          "metadata": {
            "needs_background": "light"
          }
        }
      ]
    },
    {
      "cell_type": "markdown",
      "source": [
        "Графики выше отражают совместное распределение целевой переменной и основных регрессоров. В обоих случаях явной линейной зависимости не наблюдается, на втором графике получше - можно предположить положительную линию тренда."
      ],
      "metadata": {
        "id": "spPSo0kUoS58"
      }
    },
    {
      "cell_type": "markdown",
      "metadata": {
        "id": "9nXtDn3zwOPj"
      },
      "source": [
        "- Теперь посмотрим на, так называемый, `heatmap`. Если простыми словами, то это просто красивая корреляционная матрица"
      ]
    },
    {
      "cell_type": "code",
      "execution_count": 98,
      "metadata": {
        "ExecuteTime": {
          "end_time": "2021-02-09T14:34:28.596014Z",
          "start_time": "2021-02-09T14:34:28.431020Z"
        },
        "id": "NeIhh28JwOPj"
      },
      "outputs": [],
      "source": [
        "# Самый простой способ сделать heatmap - взять из библиотеки seaborn\n",
        "import seaborn as sns"
      ]
    },
    {
      "cell_type": "code",
      "source": [
        "cor=df.corr()\n",
        "sns.heatmap(cor)"
      ],
      "metadata": {
        "colab": {
          "base_uri": "https://localhost:8080/",
          "height": 347
        },
        "id": "u2RyqM9Ce6kD",
        "outputId": "cdd88ad0-2624-4a8f-fdde-c29408e8912d"
      },
      "execution_count": 114,
      "outputs": [
        {
          "output_type": "execute_result",
          "data": {
            "text/plain": [
              "<AxesSubplot:>"
            ]
          },
          "metadata": {},
          "execution_count": 114
        },
        {
          "output_type": "display_data",
          "data": {
            "text/plain": [
              "<Figure size 432x288 with 2 Axes>"
            ],
            "image/png": "[encoded data removed]"
          },
          "metadata": {
            "needs_background": "light"
          }
        }
      ]
    },
    {
      "cell_type": "markdown",
      "source": [
        "Такую картинку сложно интерпретировать, поэтому построим корреляционную матрицу без категориальных переменных."
      ],
      "metadata": {
        "id": "lWH524MlhfPb"
      }
    },
    {
      "cell_type": "code",
      "source": [
        "a=set(df_matrix.columns)\n",
        "b=set(df.columns)\n",
        "float_var=a.intersection(b)"
      ],
      "metadata": {
        "id": "frRQBcdQfRI8"
      },
      "execution_count": 115,
      "outputs": []
    },
    {
      "cell_type": "code",
      "source": [
        "cor_f=df[float_var].corr()\n",
        "sns.heatmap(cor_f)"
      ],
      "metadata": {
        "colab": {
          "base_uri": "https://localhost:8080/",
          "height": 350
        },
        "id": "Mrx2-1UMf4_4",
        "outputId": "767177b5-8ba9-419d-f437-a3e9931b1105"
      },
      "execution_count": 116,
      "outputs": [
        {
          "output_type": "execute_result",
          "data": {
            "text/plain": [
              "<AxesSubplot:>"
            ]
          },
          "metadata": {},
          "execution_count": 116
        },
        {
          "output_type": "display_data",
          "data": {
            "text/plain": [
              "<Figure size 432x288 with 2 Axes>"
            ],
            "image/png": "[encoded data removed]"
          },
          "metadata": {
            "needs_background": "light"
          }
        }
      ]
    },
    {
      "cell_type": "markdown",
      "metadata": {
        "id": "2IUtYropwOPk"
      },
      "source": [
        "- Какой вывод можно сделать?"
      ]
    },
    {
      "cell_type": "markdown",
      "source": [
        "- react сильнее всего коррелирует с возрастом: ro=-0,37, но и это не очень сильная связь. с переменными no2_class, no2_home связь слабая.\n",
        "\n",
        "- no2_class коррелирует с precip, green_home, noise_school, no2_home. ro порядка 0,4, то есть связь не сильная\n",
        "\n",
        "- помимо no2_class, no2_home коррелирует с green_home, но так же не сильно\n",
        "\n",
        "Вывод:\n",
        "\n",
        "- в целом сильной корреляции между регрессорами не наблюдается. это хорошо, так как пока не заставляет опасаться мультиколлинеарности\n",
        "\n",
        "- однако целевая переменная тоже не коррелирует с регрессорами, что может привести к тому, что они будут плохо ее объяснять"
      ],
      "metadata": {
        "id": "1Qklz4RpjLjs"
      }
    },
    {
      "cell_type": "code",
      "source": [
        "cor_f"
      ],
      "metadata": {
        "colab": {
          "base_uri": "https://localhost:8080/",
          "height": 421
        },
        "id": "lAcFE5EyjtKT",
        "outputId": "a866703e-ea31-4ed9-ed76-dd9e541b5392"
      },
      "execution_count": 117,
      "outputs": [
        {
          "output_type": "execute_result",
          "data": {
            "text/plain": [
              "                  precip  no2_class  siblings_old  green_home  sev_home  \\\n",
              "precip          1.000000  -0.405484      0.106774    0.343368 -0.209988   \n",
              "no2_class      -0.405484   1.000000     -0.072071   -0.461495  0.174401   \n",
              "siblings_old    0.106774  -0.072071      1.000000    0.094345 -0.118384   \n",
              "green_home      0.343368  -0.461495      0.094345    1.000000 -0.280832   \n",
              "sev_home       -0.209988   0.174401     -0.118384   -0.280832  1.000000   \n",
              "age             0.076759   0.046912     -0.014379    0.051262 -0.008126   \n",
              "react          -0.026566   0.098934     -0.028643   -0.030051  0.069548   \n",
              "sev_school     -0.451910   0.005485     -0.119300   -0.177974  0.327924   \n",
              "age0            0.065749  -0.026432     -0.028463    0.045655  0.044544   \n",
              "noise_school   -0.454458   0.436517     -0.071398   -0.316554  0.158838   \n",
              "no2_home       -0.224489   0.359192     -0.051536   -0.622872  0.050816   \n",
              "siblings_young -0.027515  -0.018594     -0.421992   -0.001365 -0.090253   \n",
              "\n",
              "                     age     react  sev_school      age0  noise_school  \\\n",
              "precip          0.076759 -0.026566   -0.451910  0.065749     -0.454458   \n",
              "no2_class       0.046912  0.098934    0.005485 -0.026432      0.436517   \n",
              "siblings_old   -0.014379 -0.028643   -0.119300 -0.028463     -0.071398   \n",
              "green_home      0.051262 -0.030051   -0.177974  0.045655     -0.316554   \n",
              "sev_home       -0.008126  0.069548    0.327924  0.044544      0.158838   \n",
              "age             1.000000 -0.369645   -0.010856  0.086902     -0.027773   \n",
              "react          -0.369645  1.000000   -0.002393  0.024271      0.023137   \n",
              "sev_school     -0.010856 -0.002393    1.000000 -0.039896      0.238591   \n",
              "age0            0.086902  0.024271   -0.039896  1.000000     -0.064055   \n",
              "noise_school   -0.027773  0.023137    0.238591 -0.064055      1.000000   \n",
              "no2_home       -0.072775  0.019189   -0.005794 -0.080945      0.220600   \n",
              "siblings_young  0.048954  0.020333    0.014248 -0.012656      0.019509   \n",
              "\n",
              "                no2_home  siblings_young  \n",
              "precip         -0.224489       -0.027515  \n",
              "no2_class       0.359192       -0.018594  \n",
              "siblings_old   -0.051536       -0.421992  \n",
              "green_home     -0.622872       -0.001365  \n",
              "sev_home        0.050816       -0.090253  \n",
              "age            -0.072775        0.048954  \n",
              "react           0.019189        0.020333  \n",
              "sev_school     -0.005794        0.014248  \n",
              "age0           -0.080945       -0.012656  \n",
              "noise_school    0.220600        0.019509  \n",
              "no2_home        1.000000        0.003788  \n",
              "siblings_young  0.003788        1.000000  "
            ],
            "text/html": [
              "\n",
              "  <div id=\"df-68d406a2-6e8e-415a-a05b-18169ce5a3b4\">\n",
              "    <div class=\"colab-df-container\">\n",
              "      <div>\n",
              "<style scoped>\n",
              "    .dataframe tbody tr th:only-of-type {\n",
              "        vertical-align: middle;\n",
              "    }\n",
              "\n",
              "    .dataframe tbody tr th {\n",
              "        vertical-align: top;\n",
              "    }\n",
              "\n",
              "    .dataframe thead th {\n",
              "        text-align: right;\n",
              "    }\n",
              "</style>\n",
              "<table border=\"1\" class=\"dataframe\">\n",
              "  <thead>\n",
              "    <tr style=\"text-align: right;\">\n",
              "      <th></th>\n",
              "      <th>precip</th>\n",
              "      <th>no2_class</th>\n",
              "      <th>siblings_old</th>\n",
              "      <th>green_home</th>\n",
              "      <th>sev_home</th>\n",
              "      <th>age</th>\n",
              "      <th>react</th>\n",
              "      <th>sev_school</th>\n",
              "      <th>age0</th>\n",
              "      <th>noise_school</th>\n",
              "      <th>no2_home</th>\n",
              "      <th>siblings_young</th>\n",
              "    </tr>\n",
              "  </thead>\n",
              "  <tbody>\n",
              "    <tr>\n",
              "      <th>precip</th>\n",
              "      <td>1.000000</td>\n",
              "      <td>-0.405484</td>\n",
              "      <td>0.106774</td>\n",
              "      <td>0.343368</td>\n",
              "      <td>-0.209988</td>\n",
              "      <td>0.076759</td>\n",
              "      <td>-0.026566</td>\n",
              "      <td>-0.451910</td>\n",
              "      <td>0.065749</td>\n",
              "      <td>-0.454458</td>\n",
              "      <td>-0.224489</td>\n",
              "      <td>-0.027515</td>\n",
              "    </tr>\n",
              "    <tr>\n",
              "      <th>no2_class</th>\n",
              "      <td>-0.405484</td>\n",
              "      <td>1.000000</td>\n",
              "      <td>-0.072071</td>\n",
              "      <td>-0.461495</td>\n",
              "      <td>0.174401</td>\n",
              "      <td>0.046912</td>\n",
              "      <td>0.098934</td>\n",
              "      <td>0.005485</td>\n",
              "      <td>-0.026432</td>\n",
              "      <td>0.436517</td>\n",
              "      <td>0.359192</td>\n",
              "      <td>-0.018594</td>\n",
              "    </tr>\n",
              "    <tr>\n",
              "      <th>siblings_old</th>\n",
              "      <td>0.106774</td>\n",
              "      <td>-0.072071</td>\n",
              "      <td>1.000000</td>\n",
              "      <td>0.094345</td>\n",
              "      <td>-0.118384</td>\n",
              "      <td>-0.014379</td>\n",
              "      <td>-0.028643</td>\n",
              "      <td>-0.119300</td>\n",
              "      <td>-0.028463</td>\n",
              "      <td>-0.071398</td>\n",
              "      <td>-0.051536</td>\n",
              "      <td>-0.421992</td>\n",
              "    </tr>\n",
              "    <tr>\n",
              "      <th>green_home</th>\n",
              "      <td>0.343368</td>\n",
              "      <td>-0.461495</td>\n",
              "      <td>0.094345</td>\n",
              "      <td>1.000000</td>\n",
              "      <td>-0.280832</td>\n",
              "      <td>0.051262</td>\n",
              "      <td>-0.030051</td>\n",
              "      <td>-0.177974</td>\n",
              "      <td>0.045655</td>\n",
              "      <td>-0.316554</td>\n",
              "      <td>-0.622872</td>\n",
              "      <td>-0.001365</td>\n",
              "    </tr>\n",
              "    <tr>\n",
              "      <th>sev_home</th>\n",
              "      <td>-0.209988</td>\n",
              "      <td>0.174401</td>\n",
              "      <td>-0.118384</td>\n",
              "      <td>-0.280832</td>\n",
              "      <td>1.000000</td>\n",
              "      <td>-0.008126</td>\n",
              "      <td>0.069548</td>\n",
              "      <td>0.327924</td>\n",
              "      <td>0.044544</td>\n",
              "      <td>0.158838</td>\n",
              "      <td>0.050816</td>\n",
              "      <td>-0.090253</td>\n",
              "    </tr>\n",
              "    <tr>\n",
              "      <th>age</th>\n",
              "      <td>0.076759</td>\n",
              "      <td>0.046912</td>\n",
              "      <td>-0.014379</td>\n",
              "      <td>0.051262</td>\n",
              "      <td>-0.008126</td>\n",
              "      <td>1.000000</td>\n",
              "      <td>-0.369645</td>\n",
              "      <td>-0.010856</td>\n",
              "      <td>0.086902</td>\n",
              "      <td>-0.027773</td>\n",
              "      <td>-0.072775</td>\n",
              "      <td>0.048954</td>\n",
              "    </tr>\n",
              "    <tr>\n",
              "      <th>react</th>\n",
              "      <td>-0.026566</td>\n",
              "      <td>0.098934</td>\n",
              "      <td>-0.028643</td>\n",
              "      <td>-0.030051</td>\n",
              "      <td>0.069548</td>\n",
              "      <td>-0.369645</td>\n",
              "      <td>1.000000</td>\n",
              "      <td>-0.002393</td>\n",
              "      <td>0.024271</td>\n",
              "      <td>0.023137</td>\n",
              "      <td>0.019189</td>\n",
              "      <td>0.020333</td>\n",
              "    </tr>\n",
              "    <tr>\n",
              "      <th>sev_school</th>\n",
              "      <td>-0.451910</td>\n",
              "      <td>0.005485</td>\n",
              "      <td>-0.119300</td>\n",
              "      <td>-0.177974</td>\n",
              "      <td>0.327924</td>\n",
              "      <td>-0.010856</td>\n",
              "      <td>-0.002393</td>\n",
              "      <td>1.000000</td>\n",
              "      <td>-0.039896</td>\n",
              "      <td>0.238591</td>\n",
              "      <td>-0.005794</td>\n",
              "      <td>0.014248</td>\n",
              "    </tr>\n",
              "    <tr>\n",
              "      <th>age0</th>\n",
              "      <td>0.065749</td>\n",
              "      <td>-0.026432</td>\n",
              "      <td>-0.028463</td>\n",
              "      <td>0.045655</td>\n",
              "      <td>0.044544</td>\n",
              "      <td>0.086902</td>\n",
              "      <td>0.024271</td>\n",
              "      <td>-0.039896</td>\n",
              "      <td>1.000000</td>\n",
              "      <td>-0.064055</td>\n",
              "      <td>-0.080945</td>\n",
              "      <td>-0.012656</td>\n",
              "    </tr>\n",
              "    <tr>\n",
              "      <th>noise_school</th>\n",
              "      <td>-0.454458</td>\n",
              "      <td>0.436517</td>\n",
              "      <td>-0.071398</td>\n",
              "      <td>-0.316554</td>\n",
              "      <td>0.158838</td>\n",
              "      <td>-0.027773</td>\n",
              "      <td>0.023137</td>\n",
              "      <td>0.238591</td>\n",
              "      <td>-0.064055</td>\n",
              "      <td>1.000000</td>\n",
              "      <td>0.220600</td>\n",
              "      <td>0.019509</td>\n",
              "    </tr>\n",
              "    <tr>\n",
              "      <th>no2_home</th>\n",
              "      <td>-0.224489</td>\n",
              "      <td>0.359192</td>\n",
              "      <td>-0.051536</td>\n",
              "      <td>-0.622872</td>\n",
              "      <td>0.050816</td>\n",
              "      <td>-0.072775</td>\n",
              "      <td>0.019189</td>\n",
              "      <td>-0.005794</td>\n",
              "      <td>-0.080945</td>\n",
              "      <td>0.220600</td>\n",
              "      <td>1.000000</td>\n",
              "      <td>0.003788</td>\n",
              "    </tr>\n",
              "    <tr>\n",
              "      <th>siblings_young</th>\n",
              "      <td>-0.027515</td>\n",
              "      <td>-0.018594</td>\n",
              "      <td>-0.421992</td>\n",
              "      <td>-0.001365</td>\n",
              "      <td>-0.090253</td>\n",
              "      <td>0.048954</td>\n",
              "      <td>0.020333</td>\n",
              "      <td>0.014248</td>\n",
              "      <td>-0.012656</td>\n",
              "      <td>0.019509</td>\n",
              "      <td>0.003788</td>\n",
              "      <td>1.000000</td>\n",
              "    </tr>\n",
              "  </tbody>\n",
              "</table>\n",
              "</div>\n",
              "      <button class=\"colab-df-convert\" onclick=\"convertToInteractive('df-68d406a2-6e8e-415a-a05b-18169ce5a3b4')\"\n",
              "              title=\"Convert this dataframe to an interactive table.\"\n",
              "              style=\"display:none;\">\n",
              "        \n",
              "  <svg xmlns=\"http://www.w3.org/2000/svg\" height=\"24px\"viewBox=\"0 0 24 24\"\n",
              "       width=\"24px\">\n",
              "    <path d=\"M0 0h24v24H0V0z\" fill=\"none\"/>\n",
              "    <path d=\"M18.56 5.44l.94 2.06.94-2.06 2.06-.94-2.06-.94-.94-2.06-.94 2.06-2.06.94zm-11 1L8.5 8.5l.94-2.06 2.06-.94-2.06-.94L8.5 2.5l-.94 2.06-2.06.94zm10 10l.94 2.06.94-2.06 2.06-.94-2.06-.94-.94-2.06-.94 2.06-2.06.94z\"/><path d=\"M17.41 7.96l-1.37-1.37c-.4-.4-.92-.59-1.43-.59-.52 0-1.04.2-1.43.59L10.3 9.45l-7.72 7.72c-.78.78-.78 2.05 0 2.83L4 21.41c.39.39.9.59 1.41.59.51 0 1.02-.2 1.41-.59l7.78-7.78 2.81-2.81c.8-.78.8-2.07 0-2.86zM5.41 20L4 18.59l7.72-7.72 1.47 1.35L5.41 20z\"/>\n",
              "  </svg>\n",
              "      </button>\n",
              "      \n",
              "  <style>\n",
              "    .colab-df-container {\n",
              "      display:flex;\n",
              "      flex-wrap:wrap;\n",
              "      gap: 12px;\n",
              "    }\n",
              "\n",
              "    .colab-df-convert {\n",
              "      background-color: #E8F0FE;\n",
              "      border: none;\n",
              "      border-radius: 50%;\n",
              "      cursor: pointer;\n",
              "      display: none;\n",
              "      fill: #1967D2;\n",
              "      height: 32px;\n",
              "      padding: 0 0 0 0;\n",
              "      width: 32px;\n",
              "    }\n",
              "\n",
              "    .colab-df-convert:hover {\n",
              "      background-color: #E2EBFA;\n",
              "      box-shadow: 0px 1px 2px rgba(60, 64, 67, 0.3), 0px 1px 3px 1px rgba(60, 64, 67, 0.15);\n",
              "      fill: #174EA6;\n",
              "    }\n",
              "\n",
              "    [theme=dark] .colab-df-convert {\n",
              "      background-color: #3B4455;\n",
              "      fill: #D2E3FC;\n",
              "    }\n",
              "\n",
              "    [theme=dark] .colab-df-convert:hover {\n",
              "      background-color: #434B5C;\n",
              "      box-shadow: 0px 1px 3px 1px rgba(0, 0, 0, 0.15);\n",
              "      filter: drop-shadow(0px 1px 2px rgba(0, 0, 0, 0.3));\n",
              "      fill: #FFFFFF;\n",
              "    }\n",
              "  </style>\n",
              "\n",
              "      <script>\n",
              "        const buttonEl =\n",
              "          document.querySelector('#df-68d406a2-6e8e-415a-a05b-18169ce5a3b4 button.colab-df-convert');\n",
              "        buttonEl.style.display =\n",
              "          google.colab.kernel.accessAllowed ? 'block' : 'none';\n",
              "\n",
              "        async function convertToInteractive(key) {\n",
              "          const element = document.querySelector('#df-68d406a2-6e8e-415a-a05b-18169ce5a3b4');\n",
              "          const dataTable =\n",
              "            await google.colab.kernel.invokeFunction('convertToInteractive',\n",
              "                                                     [key], {});\n",
              "          if (!dataTable) return;\n",
              "\n",
              "          const docLinkHtml = 'Like what you see? Visit the ' +\n",
              "            '<a target=\"_blank\" href=https://colab.research.google.com/notebooks/data_table.ipynb>data table notebook</a>'\n",
              "            + ' to learn more about interactive tables.';\n",
              "          element.innerHTML = '';\n",
              "          dataTable['output_type'] = 'display_data';\n",
              "          await google.colab.output.renderOutput(dataTable, element);\n",
              "          const docLink = document.createElement('div');\n",
              "          docLink.innerHTML = docLinkHtml;\n",
              "          element.appendChild(docLink);\n",
              "        }\n",
              "      </script>\n",
              "    </div>\n",
              "  </div>\n",
              "  "
            ]
          },
          "metadata": {},
          "execution_count": 117
        }
      ]
    },
    {
      "cell_type": "markdown",
      "metadata": {
        "ExecuteTime": {
          "end_time": "2021-02-09T14:34:35.623972Z",
          "start_time": "2021-02-09T14:34:35.514974Z"
        },
        "scrolled": true,
        "id": "6f3wT8ogwOPk"
      },
      "source": [
        "- Подумайте над гипотезами о взаимосвязи между зависимой переменной и регрессорами (как переменная X *может влиять* на Y)\n",
        "- Преобразуйте переменные, если необходимо\n",
        "- Постройте первую версию модели"
      ]
    },
    {
      "cell_type": "markdown",
      "source": [
        "Гипотезы (опираясь на корреляционную матрицу):\n",
        "\n",
        "- age отрицательно влияет на react (чем старше ребенок, тем быстрее реакция)\n",
        "\n",
        "- no2_home, no2_class положительно влияют на react (чем выше содержание no2 в воздухе, тем хуже реакция)"
      ],
      "metadata": {
        "id": "XK-vsjRpovqG"
      }
    },
    {
      "cell_type": "code",
      "execution_count": 129,
      "metadata": {
        "id": "NCYhSldxwOPl"
      },
      "outputs": [],
      "source": [
        "import statsmodels.api as sm"
      ]
    },
    {
      "cell_type": "code",
      "source": [
        "X=df.drop(['react', 'f_University', 'University', '<6m', '2nd', ], axis=1) # уберем \"лишние\" фиктивные переменные, из-за которых будет возникать мультиколлинеарность\n",
        "Y = df['react']"
      ],
      "metadata": {
        "id": "VT632rtuqHOF"
      },
      "execution_count": 133,
      "outputs": []
    },
    {
      "cell_type": "code",
      "source": [
        "exog = sm.add_constant(X)\n",
        "model_classic = sm.OLS(endog=Y, exog=exog).fit()\n",
        "model_classic.summary()"
      ],
      "metadata": {
        "colab": {
          "base_uri": "https://localhost:8080/",
          "height": 982
        },
        "id": "6M6rdwEeqFI1",
        "outputId": "0f5498fa-5fce-4436-a34c-38d56d62053b"
      },
      "execution_count": 134,
      "outputs": [
        {
          "output_type": "execute_result",
          "data": {
            "text/plain": [
              "<class 'statsmodels.iolib.summary.Summary'>\n",
              "\"\"\"\n",
              "                            OLS Regression Results                            \n",
              "==============================================================================\n",
              "Dep. Variable:                  react   R-squared:                       0.237\n",
              "Model:                            OLS   Adj. R-squared:                  0.218\n",
              "Method:                 Least Squares   F-statistic:                     12.56\n",
              "Date:                Fri, 03 Mar 2023   Prob (F-statistic):           3.12e-44\n",
              "Time:                        18:14:10   Log-Likelihood:                -6481.1\n",
              "No. Observations:                1036   AIC:                         1.301e+04\n",
              "Df Residuals:                    1010   BIC:                         1.314e+04\n",
              "Df Model:                          25                                         \n",
              "Covariance Type:            nonrobust                                         \n",
              "==================================================================================\n",
              "                     coef    std err          t      P>|t|      [0.025      0.975]\n",
              "----------------------------------------------------------------------------------\n",
              "const            942.4678    106.377      8.860      0.000     733.723    1151.212\n",
              "f_Secondary       28.8522     10.238      2.818      0.005       8.762      48.943\n",
              "f_Primary         40.2230     18.468      2.178      0.030       3.984      76.462\n",
              "f_<Primary       -26.8441     44.524     -0.603      0.547    -114.215      60.527\n",
              "Secondary          8.1942     11.050      0.742      0.459     -13.489      29.878\n",
              "Primary           35.3738     20.890      1.693      0.091      -5.620      76.367\n",
              "<Primary        -107.8585     61.246     -1.761      0.079    -228.042      12.325\n",
              "smoke            -20.4593     21.295     -0.961      0.337     -62.246      21.328\n",
              "no_breastfeed      5.9634     11.836      0.504      0.614     -17.262      29.188\n",
              ">6m                6.4403      9.264      0.695      0.487     -11.738      24.619\n",
              "normalbweight     18.3838     14.531      1.265      0.206     -10.130      46.898\n",
              "normalweight      -3.0363      9.558     -0.318      0.751     -21.792      15.719\n",
              "4th              -85.3153     25.659     -3.325      0.001    -135.666     -34.965\n",
              "3rd              -60.6053     15.120     -4.008      0.000     -90.275     -30.935\n",
              "no2_class          2.4090      0.519      4.640      0.000       1.390       3.428\n",
              "no2_home          -0.1316      0.295     -0.446      0.655      -0.710       0.447\n",
              "age              -28.5946     11.412     -2.506      0.012     -50.988      -6.201\n",
              "age0               5.6168      3.150      1.783      0.075      -0.564      11.798\n",
              "siblings_old       0.7689      6.684      0.115      0.908     -12.348      13.885\n",
              "siblings_young    15.1293      6.560      2.306      0.021       2.256      28.003\n",
              "sev_home          26.0575     23.139      1.126      0.260     -19.349      71.464\n",
              "green_home        85.9558     75.500      1.138      0.255     -62.199     234.111\n",
              "noise_school      -0.5249      1.056     -0.497      0.619      -2.598       1.548\n",
              "sev_school       -11.3692     23.963     -0.474      0.635     -58.393      35.654\n",
              "precip             4.6708      4.197      1.113      0.266      -3.565      12.906\n",
              "male             -50.2749      8.055     -6.241      0.000     -66.082     -34.468\n",
              "==============================================================================\n",
              "Omnibus:                       47.718   Durbin-Watson:                   2.001\n",
              "Prob(Omnibus):                  0.000   Jarque-Bera (JB):               53.354\n",
              "Skew:                           0.553   Prob(JB):                     2.60e-12\n",
              "Kurtosis:                       3.113   Cond. No.                     2.15e+03\n",
              "==============================================================================\n",
              "\n",
              "Notes:\n",
              "[1] Standard Errors assume that the covariance matrix of the errors is correctly specified.\n",
              "[2] The condition number is large, 2.15e+03. This might indicate that there are\n",
              "strong multicollinearity or other numerical problems.\n",
              "\"\"\""
            ],
            "text/html": [
              "<table class=\"simpletable\">\n",
              "<caption>OLS Regression Results</caption>\n",
              "<tr>\n",
              "  <th>Dep. Variable:</th>          <td>react</td>      <th>  R-squared:         </th> <td>   0.237</td> \n",
              "</tr>\n",
              "<tr>\n",
              "  <th>Model:</th>                   <td>OLS</td>       <th>  Adj. R-squared:    </th> <td>   0.218</td> \n",
              "</tr>\n",
              "<tr>\n",
              "  <th>Method:</th>             <td>Least Squares</td>  <th>  F-statistic:       </th> <td>   12.56</td> \n",
              "</tr>\n",
              "<tr>\n",
              "  <th>Date:</th>             <td>Fri, 03 Mar 2023</td> <th>  Prob (F-statistic):</th> <td>3.12e-44</td> \n",
              "</tr>\n",
              "<tr>\n",
              "  <th>Time:</th>                 <td>18:14:10</td>     <th>  Log-Likelihood:    </th> <td> -6481.1</td> \n",
              "</tr>\n",
              "<tr>\n",
              "  <th>No. Observations:</th>      <td>  1036</td>      <th>  AIC:               </th> <td>1.301e+04</td>\n",
              "</tr>\n",
              "<tr>\n",
              "  <th>Df Residuals:</th>          <td>  1010</td>      <th>  BIC:               </th> <td>1.314e+04</td>\n",
              "</tr>\n",
              "<tr>\n",
              "  <th>Df Model:</th>              <td>    25</td>      <th>                     </th>     <td> </td>    \n",
              "</tr>\n",
              "<tr>\n",
              "  <th>Covariance Type:</th>      <td>nonrobust</td>    <th>                     </th>     <td> </td>    \n",
              "</tr>\n",
              "</table>\n",
              "<table class=\"simpletable\">\n",
              "<tr>\n",
              "         <td></td>           <th>coef</th>     <th>std err</th>      <th>t</th>      <th>P>|t|</th>  <th>[0.025</th>    <th>0.975]</th>  \n",
              "</tr>\n",
              "<tr>\n",
              "  <th>const</th>          <td>  942.4678</td> <td>  106.377</td> <td>    8.860</td> <td> 0.000</td> <td>  733.723</td> <td> 1151.212</td>\n",
              "</tr>\n",
              "<tr>\n",
              "  <th>f_Secondary</th>    <td>   28.8522</td> <td>   10.238</td> <td>    2.818</td> <td> 0.005</td> <td>    8.762</td> <td>   48.943</td>\n",
              "</tr>\n",
              "<tr>\n",
              "  <th>f_Primary</th>      <td>   40.2230</td> <td>   18.468</td> <td>    2.178</td> <td> 0.030</td> <td>    3.984</td> <td>   76.462</td>\n",
              "</tr>\n",
              "<tr>\n",
              "  <th>f_<Primary</th>     <td>  -26.8441</td> <td>   44.524</td> <td>   -0.603</td> <td> 0.547</td> <td> -114.215</td> <td>   60.527</td>\n",
              "</tr>\n",
              "<tr>\n",
              "  <th>Secondary</th>      <td>    8.1942</td> <td>   11.050</td> <td>    0.742</td> <td> 0.459</td> <td>  -13.489</td> <td>   29.878</td>\n",
              "</tr>\n",
              "<tr>\n",
              "  <th>Primary</th>        <td>   35.3738</td> <td>   20.890</td> <td>    1.693</td> <td> 0.091</td> <td>   -5.620</td> <td>   76.367</td>\n",
              "</tr>\n",
              "<tr>\n",
              "  <th><Primary</th>       <td> -107.8585</td> <td>   61.246</td> <td>   -1.761</td> <td> 0.079</td> <td> -228.042</td> <td>   12.325</td>\n",
              "</tr>\n",
              "<tr>\n",
              "  <th>smoke</th>          <td>  -20.4593</td> <td>   21.295</td> <td>   -0.961</td> <td> 0.337</td> <td>  -62.246</td> <td>   21.328</td>\n",
              "</tr>\n",
              "<tr>\n",
              "  <th>no_breastfeed</th>  <td>    5.9634</td> <td>   11.836</td> <td>    0.504</td> <td> 0.614</td> <td>  -17.262</td> <td>   29.188</td>\n",
              "</tr>\n",
              "<tr>\n",
              "  <th>>6m</th>            <td>    6.4403</td> <td>    9.264</td> <td>    0.695</td> <td> 0.487</td> <td>  -11.738</td> <td>   24.619</td>\n",
              "</tr>\n",
              "<tr>\n",
              "  <th>normalbweight</th>  <td>   18.3838</td> <td>   14.531</td> <td>    1.265</td> <td> 0.206</td> <td>  -10.130</td> <td>   46.898</td>\n",
              "</tr>\n",
              "<tr>\n",
              "  <th>normalweight</th>   <td>   -3.0363</td> <td>    9.558</td> <td>   -0.318</td> <td> 0.751</td> <td>  -21.792</td> <td>   15.719</td>\n",
              "</tr>\n",
              "<tr>\n",
              "  <th>4th</th>            <td>  -85.3153</td> <td>   25.659</td> <td>   -3.325</td> <td> 0.001</td> <td> -135.666</td> <td>  -34.965</td>\n",
              "</tr>\n",
              "<tr>\n",
              "  <th>3rd</th>            <td>  -60.6053</td> <td>   15.120</td> <td>   -4.008</td> <td> 0.000</td> <td>  -90.275</td> <td>  -30.935</td>\n",
              "</tr>\n",
              "<tr>\n",
              "  <th>no2_class</th>      <td>    2.4090</td> <td>    0.519</td> <td>    4.640</td> <td> 0.000</td> <td>    1.390</td> <td>    3.428</td>\n",
              "</tr>\n",
              "<tr>\n",
              "  <th>no2_home</th>       <td>   -0.1316</td> <td>    0.295</td> <td>   -0.446</td> <td> 0.655</td> <td>   -0.710</td> <td>    0.447</td>\n",
              "</tr>\n",
              "<tr>\n",
              "  <th>age</th>            <td>  -28.5946</td> <td>   11.412</td> <td>   -2.506</td> <td> 0.012</td> <td>  -50.988</td> <td>   -6.201</td>\n",
              "</tr>\n",
              "<tr>\n",
              "  <th>age0</th>           <td>    5.6168</td> <td>    3.150</td> <td>    1.783</td> <td> 0.075</td> <td>   -0.564</td> <td>   11.798</td>\n",
              "</tr>\n",
              "<tr>\n",
              "  <th>siblings_old</th>   <td>    0.7689</td> <td>    6.684</td> <td>    0.115</td> <td> 0.908</td> <td>  -12.348</td> <td>   13.885</td>\n",
              "</tr>\n",
              "<tr>\n",
              "  <th>siblings_young</th> <td>   15.1293</td> <td>    6.560</td> <td>    2.306</td> <td> 0.021</td> <td>    2.256</td> <td>   28.003</td>\n",
              "</tr>\n",
              "<tr>\n",
              "  <th>sev_home</th>       <td>   26.0575</td> <td>   23.139</td> <td>    1.126</td> <td> 0.260</td> <td>  -19.349</td> <td>   71.464</td>\n",
              "</tr>\n",
              "<tr>\n",
              "  <th>green_home</th>     <td>   85.9558</td> <td>   75.500</td> <td>    1.138</td> <td> 0.255</td> <td>  -62.199</td> <td>  234.111</td>\n",
              "</tr>\n",
              "<tr>\n",
              "  <th>noise_school</th>   <td>   -0.5249</td> <td>    1.056</td> <td>   -0.497</td> <td> 0.619</td> <td>   -2.598</td> <td>    1.548</td>\n",
              "</tr>\n",
              "<tr>\n",
              "  <th>sev_school</th>     <td>  -11.3692</td> <td>   23.963</td> <td>   -0.474</td> <td> 0.635</td> <td>  -58.393</td> <td>   35.654</td>\n",
              "</tr>\n",
              "<tr>\n",
              "  <th>precip</th>         <td>    4.6708</td> <td>    4.197</td> <td>    1.113</td> <td> 0.266</td> <td>   -3.565</td> <td>   12.906</td>\n",
              "</tr>\n",
              "<tr>\n",
              "  <th>male</th>           <td>  -50.2749</td> <td>    8.055</td> <td>   -6.241</td> <td> 0.000</td> <td>  -66.082</td> <td>  -34.468</td>\n",
              "</tr>\n",
              "</table>\n",
              "<table class=\"simpletable\">\n",
              "<tr>\n",
              "  <th>Omnibus:</th>       <td>47.718</td> <th>  Durbin-Watson:     </th> <td>   2.001</td>\n",
              "</tr>\n",
              "<tr>\n",
              "  <th>Prob(Omnibus):</th> <td> 0.000</td> <th>  Jarque-Bera (JB):  </th> <td>  53.354</td>\n",
              "</tr>\n",
              "<tr>\n",
              "  <th>Skew:</th>          <td> 0.553</td> <th>  Prob(JB):          </th> <td>2.60e-12</td>\n",
              "</tr>\n",
              "<tr>\n",
              "  <th>Kurtosis:</th>      <td> 3.113</td> <th>  Cond. No.          </th> <td>2.15e+03</td>\n",
              "</tr>\n",
              "</table><br/><br/>Notes:<br/>[1] Standard Errors assume that the covariance matrix of the errors is correctly specified.<br/>[2] The condition number is large, 2.15e+03. This might indicate that there are<br/>strong multicollinearity or other numerical problems."
            ]
          },
          "metadata": {},
          "execution_count": 134
        }
      ]
    },
    {
      "cell_type": "markdown",
      "metadata": {
        "id": "CipUclVCwOPm"
      },
      "source": [
        "- Значима ли регрессия в целом?\n",
        "\n",
        "Регрессия в целом значима Prob (F-statistic)=3.12e-44 (нулевая гипотеза о равенстве коэффициентов нулю отвергается)\n",
        "- Все ли переменные значимы? Если нет, то, какие ваши дальнейшие шаги?\n",
        "\n",
        "Многие регрессоры не значимы (P>|t| > 0.05). Постороим регрессию без них"
      ]
    },
    {
      "cell_type": "code",
      "source": [
        "X.columns"
      ],
      "metadata": {
        "colab": {
          "base_uri": "https://localhost:8080/"
        },
        "id": "iV0L8dXKrId8",
        "outputId": "5783b944-f997-4f01-b8a5-894769282f6e"
      },
      "execution_count": 132,
      "outputs": [
        {
          "output_type": "execute_result",
          "data": {
            "text/plain": [
              "Index(['f_University', 'f_Secondary', 'f_Primary', 'f_<Primary', 'University',\n",
              "       'Secondary', 'Primary', '<Primary', 'smoke', 'no_breastfeed', '>6m',\n",
              "       '<6m', 'normalbweight', 'normalweight', '4th', '3rd', '2nd',\n",
              "       'no2_class', 'no2_home', 'age', 'age0', 'siblings_old',\n",
              "       'siblings_young', 'sev_home', 'green_home', 'noise_school',\n",
              "       'sev_school', 'precip', 'male'],\n",
              "      dtype='object')"
            ]
          },
          "metadata": {},
          "execution_count": 132
        }
      ]
    },
    {
      "cell_type": "code",
      "execution_count": 161,
      "metadata": {
        "ExecuteTime": {
          "end_time": "2021-02-09T14:34:35.763972Z",
          "start_time": "2021-02-09T14:34:35.678976Z"
        },
        "id": "grMBABNDwOPm"
      },
      "outputs": [],
      "source": [
        "X=df.drop(['react', 'f_University', 'University', '<6m', '2nd', 'f_<Primary', 'Secondary', 'Primary', '<Primary', 'smoke', 'no_breastfeed',\n",
        "           '>6m', 'normalbweight', 'normalweight','no2_home','age0', 'siblings_old', 'sev_home', 'green_home', 'noise_school',\n",
        "       'sev_school', 'precip'], axis=1) "
      ]
    },
    {
      "cell_type": "code",
      "source": [
        "exog = sm.add_constant(X)\n",
        "model_classic = sm.OLS(endog=Y, exog=exog).fit()\n",
        "model_classic.summary()"
      ],
      "metadata": {
        "colab": {
          "base_uri": "https://localhost:8080/",
          "height": 591
        },
        "id": "H7uQGU7ivDpW",
        "outputId": "c2bf1960-986b-4db2-98c6-5e8a324644d8"
      },
      "execution_count": 162,
      "outputs": [
        {
          "output_type": "execute_result",
          "data": {
            "text/plain": [
              "<class 'statsmodels.iolib.summary.Summary'>\n",
              "\"\"\"\n",
              "                            OLS Regression Results                            \n",
              "==============================================================================\n",
              "Dep. Variable:                  react   R-squared:                       0.220\n",
              "Model:                            OLS   Adj. R-squared:                  0.214\n",
              "Method:                 Least Squares   F-statistic:                     36.28\n",
              "Date:                Fri, 03 Mar 2023   Prob (F-statistic):           7.72e-51\n",
              "Time:                        19:54:33   Log-Likelihood:                -6492.4\n",
              "No. Observations:                1036   AIC:                         1.300e+04\n",
              "Df Residuals:                    1027   BIC:                         1.305e+04\n",
              "Df Model:                           8                                         \n",
              "Covariance Type:            nonrobust                                         \n",
              "==================================================================================\n",
              "                     coef    std err          t      P>|t|      [0.025      0.975]\n",
              "----------------------------------------------------------------------------------\n",
              "const            944.1857     92.276     10.232      0.000     763.115    1125.256\n",
              "f_Secondary       34.3905      9.187      3.743      0.000      16.364      52.417\n",
              "f_Primary         57.5408     15.315      3.757      0.000      27.489      87.592\n",
              "4th              -96.2705     25.160     -3.826      0.000    -145.642     -46.899\n",
              "3rd              -66.8811     14.848     -4.504      0.000     -96.017     -37.745\n",
              "no2_class          1.6807      0.403      4.167      0.000       0.889       2.472\n",
              "age              -22.0195     11.161     -1.973      0.049     -43.920      -0.119\n",
              "siblings_young    12.8929      5.824      2.214      0.027       1.465      24.321\n",
              "male             -48.8066      7.985     -6.112      0.000     -64.476     -33.137\n",
              "==============================================================================\n",
              "Omnibus:                       50.553   Durbin-Watson:                   2.017\n",
              "Prob(Omnibus):                  0.000   Jarque-Bera (JB):               56.902\n",
              "Skew:                           0.570   Prob(JB):                     4.41e-13\n",
              "Kurtosis:                       3.138   Cond. No.                         798.\n",
              "==============================================================================\n",
              "\n",
              "Notes:\n",
              "[1] Standard Errors assume that the covariance matrix of the errors is correctly specified.\n",
              "\"\"\""
            ],
            "text/html": [
              "<table class=\"simpletable\">\n",
              "<caption>OLS Regression Results</caption>\n",
              "<tr>\n",
              "  <th>Dep. Variable:</th>          <td>react</td>      <th>  R-squared:         </th> <td>   0.220</td> \n",
              "</tr>\n",
              "<tr>\n",
              "  <th>Model:</th>                   <td>OLS</td>       <th>  Adj. R-squared:    </th> <td>   0.214</td> \n",
              "</tr>\n",
              "<tr>\n",
              "  <th>Method:</th>             <td>Least Squares</td>  <th>  F-statistic:       </th> <td>   36.28</td> \n",
              "</tr>\n",
              "<tr>\n",
              "  <th>Date:</th>             <td>Fri, 03 Mar 2023</td> <th>  Prob (F-statistic):</th> <td>7.72e-51</td> \n",
              "</tr>\n",
              "<tr>\n",
              "  <th>Time:</th>                 <td>19:54:33</td>     <th>  Log-Likelihood:    </th> <td> -6492.4</td> \n",
              "</tr>\n",
              "<tr>\n",
              "  <th>No. Observations:</th>      <td>  1036</td>      <th>  AIC:               </th> <td>1.300e+04</td>\n",
              "</tr>\n",
              "<tr>\n",
              "  <th>Df Residuals:</th>          <td>  1027</td>      <th>  BIC:               </th> <td>1.305e+04</td>\n",
              "</tr>\n",
              "<tr>\n",
              "  <th>Df Model:</th>              <td>     8</td>      <th>                     </th>     <td> </td>    \n",
              "</tr>\n",
              "<tr>\n",
              "  <th>Covariance Type:</th>      <td>nonrobust</td>    <th>                     </th>     <td> </td>    \n",
              "</tr>\n",
              "</table>\n",
              "<table class=\"simpletable\">\n",
              "<tr>\n",
              "         <td></td>           <th>coef</th>     <th>std err</th>      <th>t</th>      <th>P>|t|</th>  <th>[0.025</th>    <th>0.975]</th>  \n",
              "</tr>\n",
              "<tr>\n",
              "  <th>const</th>          <td>  944.1857</td> <td>   92.276</td> <td>   10.232</td> <td> 0.000</td> <td>  763.115</td> <td> 1125.256</td>\n",
              "</tr>\n",
              "<tr>\n",
              "  <th>f_Secondary</th>    <td>   34.3905</td> <td>    9.187</td> <td>    3.743</td> <td> 0.000</td> <td>   16.364</td> <td>   52.417</td>\n",
              "</tr>\n",
              "<tr>\n",
              "  <th>f_Primary</th>      <td>   57.5408</td> <td>   15.315</td> <td>    3.757</td> <td> 0.000</td> <td>   27.489</td> <td>   87.592</td>\n",
              "</tr>\n",
              "<tr>\n",
              "  <th>4th</th>            <td>  -96.2705</td> <td>   25.160</td> <td>   -3.826</td> <td> 0.000</td> <td> -145.642</td> <td>  -46.899</td>\n",
              "</tr>\n",
              "<tr>\n",
              "  <th>3rd</th>            <td>  -66.8811</td> <td>   14.848</td> <td>   -4.504</td> <td> 0.000</td> <td>  -96.017</td> <td>  -37.745</td>\n",
              "</tr>\n",
              "<tr>\n",
              "  <th>no2_class</th>      <td>    1.6807</td> <td>    0.403</td> <td>    4.167</td> <td> 0.000</td> <td>    0.889</td> <td>    2.472</td>\n",
              "</tr>\n",
              "<tr>\n",
              "  <th>age</th>            <td>  -22.0195</td> <td>   11.161</td> <td>   -1.973</td> <td> 0.049</td> <td>  -43.920</td> <td>   -0.119</td>\n",
              "</tr>\n",
              "<tr>\n",
              "  <th>siblings_young</th> <td>   12.8929</td> <td>    5.824</td> <td>    2.214</td> <td> 0.027</td> <td>    1.465</td> <td>   24.321</td>\n",
              "</tr>\n",
              "<tr>\n",
              "  <th>male</th>           <td>  -48.8066</td> <td>    7.985</td> <td>   -6.112</td> <td> 0.000</td> <td>  -64.476</td> <td>  -33.137</td>\n",
              "</tr>\n",
              "</table>\n",
              "<table class=\"simpletable\">\n",
              "<tr>\n",
              "  <th>Omnibus:</th>       <td>50.553</td> <th>  Durbin-Watson:     </th> <td>   2.017</td>\n",
              "</tr>\n",
              "<tr>\n",
              "  <th>Prob(Omnibus):</th> <td> 0.000</td> <th>  Jarque-Bera (JB):  </th> <td>  56.902</td>\n",
              "</tr>\n",
              "<tr>\n",
              "  <th>Skew:</th>          <td> 0.570</td> <th>  Prob(JB):          </th> <td>4.41e-13</td>\n",
              "</tr>\n",
              "<tr>\n",
              "  <th>Kurtosis:</th>      <td> 3.138</td> <th>  Cond. No.          </th> <td>    798.</td>\n",
              "</tr>\n",
              "</table><br/><br/>Notes:<br/>[1] Standard Errors assume that the covariance matrix of the errors is correctly specified."
            ]
          },
          "metadata": {},
          "execution_count": 162
        }
      ]
    },
    {
      "cell_type": "code",
      "source": [
        "min_aic=model_classic.aic"
      ],
      "metadata": {
        "id": "2l4p-TltCnUq"
      },
      "execution_count": 164,
      "outputs": []
    },
    {
      "cell_type": "markdown",
      "metadata": {
        "id": "HN2L6gmqwOPm"
      },
      "source": [
        "- Какой у вас получился $R^2, R^2_{adj}, AIC, BIC$?\n",
        "- Попробуйте улучшить их"
      ]
    },
    {
      "cell_type": "markdown",
      "source": [
        "Судя по AIC (было 13010, стало 13000), модель с меньшим числом регрессоров получилась лучше. Она значима в целом и все регрессоры значимы.\n",
        "\n",
        "$R^2=0.22, R^2_{adj}=0.214, AIC=13000, BIC=13050$"
      ],
      "metadata": {
        "id": "lC2P4ZOpvanz"
      }
    },
    {
      "cell_type": "markdown",
      "metadata": {
        "id": "E48Ofn0kwOPn"
      },
      "source": [
        "- По какой метрике вы бы решали, что ваша регрессия улучшилась?\n",
        "\n",
        "По информационным критериям: они опираются на функцию правдоподобия, поэтому можно сравнивать разные типы моделей по этому критерию.\n",
        "\n",
        "Далее с помощью алгоритма включения/исключения регрессоров попытаемся улучшить модель: будем добавлять разные значимые регрессоры к модели с контантой, no2_class и age"
      ]
    },
    {
      "cell_type": "code",
      "source": [
        "import itertools"
      ],
      "metadata": {
        "id": "7RKPbMKNzRSI"
      },
      "execution_count": 140,
      "outputs": []
    },
    {
      "cell_type": "code",
      "source": [
        "X=df.drop(['react', 'f_University', 'University', '<6m', '2nd', 'f_<Primary', 'Secondary', 'Primary', '<Primary', 'smoke', 'no_breastfeed',\n",
        "           '>6m', 'normalbweight', 'normalweight','no2_home','age0', 'siblings_old', 'sev_home', 'green_home', 'noise_school',\n",
        "       'sev_school', 'precip', 'age', 'no2_class'], axis=1)"
      ],
      "metadata": {
        "id": "zMO_L12Cw95b"
      },
      "execution_count": 154,
      "outputs": []
    },
    {
      "cell_type": "code",
      "source": [
        "variants=X.columns\n",
        "variants"
      ],
      "metadata": {
        "colab": {
          "base_uri": "https://localhost:8080/"
        },
        "id": "eMaEI2u50FXo",
        "outputId": "3857bb44-f7f6-4a52-cc36-c9e13db8f328"
      },
      "execution_count": 157,
      "outputs": [
        {
          "output_type": "execute_result",
          "data": {
            "text/plain": [
              "Index(['f_Secondary', 'f_Primary', '4th', '3rd', 'siblings_young', 'male'], dtype='object')"
            ]
          },
          "metadata": {},
          "execution_count": 157
        }
      ]
    },
    {
      "cell_type": "code",
      "source": [
        "model=0\n",
        "x0=['age', 'no2_class']\n",
        "for n in range(1, len(variants)):\n",
        "  for vars in itertools.combinations(variants, n):\n",
        "    exog = sm.add_constant(df[x0+list(vars)])\n",
        "    model_classic = sm.OLS(endog=Y, exog=exog).fit()\n",
        "    #models[vars]=model_classic.aic\n",
        "    #print(exog.columns)\n",
        "    if model_classic.aic <= min_aic:\n",
        "      model= exog\n",
        "      min_aic=model_classic.aic"
      ],
      "metadata": {
        "id": "_3fldE_kxFem"
      },
      "execution_count": 173,
      "outputs": []
    },
    {
      "cell_type": "code",
      "source": [
        "model"
      ],
      "metadata": {
        "colab": {
          "base_uri": "https://localhost:8080/"
        },
        "id": "rYxA3wbyDhMJ",
        "outputId": "c9f6f5b1-88ca-4370-d18b-ef6c855050cd"
      },
      "execution_count": 171,
      "outputs": [
        {
          "output_type": "execute_result",
          "data": {
            "text/plain": [
              "0"
            ]
          },
          "metadata": {},
          "execution_count": 171
        }
      ]
    },
    {
      "cell_type": "markdown",
      "source": [
        "Улучшить модель не получилось. Проделаем ту же операцию, но будем добавлять незначимые параметры"
      ],
      "metadata": {
        "id": "e7K1_Z4FEJE3"
      }
    },
    {
      "cell_type": "code",
      "source": [
        "X=df.drop(['react', 'f_University', 'University', '<6m', '2nd', ], axis=1)\n",
        "x0=['age', 'no2_class','f_Secondary', 'f_Primary', '4th', '3rd', 'siblings_young', 'male']\n",
        "variants=set(X.columns) - set(x0)"
      ],
      "metadata": {
        "id": "BZ4QlztkEj-O"
      },
      "execution_count": 177,
      "outputs": []
    },
    {
      "cell_type": "code",
      "source": [
        "model=0\n",
        "for n in range(1, len(variants)):\n",
        "  for vars in itertools.combinations(variants, n):\n",
        "    exog = sm.add_constant(df[x0+list(vars)])\n",
        "    model_classic = sm.OLS(endog=Y, exog=exog).fit()\n",
        "    #models[vars]=model_classic.aic\n",
        "    #print(exog.columns)\n",
        "    if model_classic.aic <= min_aic:\n",
        "      model= exog\n",
        "      min_aic=model_classic.aic"
      ],
      "metadata": {
        "id": "iyh9K3q0ER1S"
      },
      "execution_count": 178,
      "outputs": []
    },
    {
      "cell_type": "code",
      "source": [
        "model = sm.OLS(endog=Y, exog=model).fit()\n",
        "model.summary()"
      ],
      "metadata": {
        "colab": {
          "base_uri": "https://localhost:8080/",
          "height": 696
        },
        "id": "YcU-3Bi_L-5V",
        "outputId": "0364ce17-6ae2-4289-c38d-f795ccdb2ddd"
      },
      "execution_count": 181,
      "outputs": [
        {
          "output_type": "execute_result",
          "data": {
            "text/plain": [
              "<class 'statsmodels.iolib.summary.Summary'>\n",
              "\"\"\"\n",
              "                            OLS Regression Results                            \n",
              "==============================================================================\n",
              "Dep. Variable:                  react   R-squared:                       0.233\n",
              "Model:                            OLS   Adj. R-squared:                  0.223\n",
              "Method:                 Least Squares   F-statistic:                     23.82\n",
              "Date:                Fri, 03 Mar 2023   Prob (F-statistic):           1.78e-50\n",
              "Time:                        20:36:40   Log-Likelihood:                -6484.2\n",
              "No. Observations:                1036   AIC:                         1.300e+04\n",
              "Df Residuals:                    1022   BIC:                         1.307e+04\n",
              "Df Model:                          13                                         \n",
              "Covariance Type:            nonrobust                                         \n",
              "==================================================================================\n",
              "                     coef    std err          t      P>|t|      [0.025      0.975]\n",
              "----------------------------------------------------------------------------------\n",
              "const            919.3054     93.538      9.828      0.000     735.757    1102.854\n",
              "age              -26.2712     11.277     -2.330      0.020     -48.399      -4.143\n",
              "no2_class          2.3263      0.476      4.890      0.000       1.393       3.260\n",
              "f_Secondary       34.8589      9.183      3.796      0.000      16.839      52.879\n",
              "f_Primary         47.6936     17.298      2.757      0.006      13.750      81.638\n",
              "4th              -90.5996     25.290     -3.582      0.000    -140.226     -40.974\n",
              "3rd              -63.2986     14.912     -4.245      0.000     -92.560     -34.037\n",
              "siblings_young    13.8046      5.803      2.379      0.018       2.417      25.192\n",
              "male             -49.0908      7.952     -6.173      0.000     -64.695     -33.487\n",
              "precip             5.1744      3.580      1.445      0.149      -1.851      12.199\n",
              "green_home        95.9089     60.115      1.595      0.111     -22.055     213.873\n",
              "Primary           28.5749     19.444      1.470      0.142      -9.580      66.730\n",
              "age0               5.7909      3.117      1.858      0.063      -0.326      11.908\n",
              "<Primary        -121.8991     57.624     -2.115      0.035    -234.973      -8.825\n",
              "==============================================================================\n",
              "Omnibus:                       48.507   Durbin-Watson:                   2.004\n",
              "Prob(Omnibus):                  0.000   Jarque-Bera (JB):               54.355\n",
              "Skew:                           0.558   Prob(JB):                     1.57e-12\n",
              "Kurtosis:                       3.113   Cond. No.                         820.\n",
              "==============================================================================\n",
              "\n",
              "Notes:\n",
              "[1] Standard Errors assume that the covariance matrix of the errors is correctly specified.\n",
              "\"\"\""
            ],
            "text/html": [
              "<table class=\"simpletable\">\n",
              "<caption>OLS Regression Results</caption>\n",
              "<tr>\n",
              "  <th>Dep. Variable:</th>          <td>react</td>      <th>  R-squared:         </th> <td>   0.233</td> \n",
              "</tr>\n",
              "<tr>\n",
              "  <th>Model:</th>                   <td>OLS</td>       <th>  Adj. R-squared:    </th> <td>   0.223</td> \n",
              "</tr>\n",
              "<tr>\n",
              "  <th>Method:</th>             <td>Least Squares</td>  <th>  F-statistic:       </th> <td>   23.82</td> \n",
              "</tr>\n",
              "<tr>\n",
              "  <th>Date:</th>             <td>Fri, 03 Mar 2023</td> <th>  Prob (F-statistic):</th> <td>1.78e-50</td> \n",
              "</tr>\n",
              "<tr>\n",
              "  <th>Time:</th>                 <td>20:36:40</td>     <th>  Log-Likelihood:    </th> <td> -6484.2</td> \n",
              "</tr>\n",
              "<tr>\n",
              "  <th>No. Observations:</th>      <td>  1036</td>      <th>  AIC:               </th> <td>1.300e+04</td>\n",
              "</tr>\n",
              "<tr>\n",
              "  <th>Df Residuals:</th>          <td>  1022</td>      <th>  BIC:               </th> <td>1.307e+04</td>\n",
              "</tr>\n",
              "<tr>\n",
              "  <th>Df Model:</th>              <td>    13</td>      <th>                     </th>     <td> </td>    \n",
              "</tr>\n",
              "<tr>\n",
              "  <th>Covariance Type:</th>      <td>nonrobust</td>    <th>                     </th>     <td> </td>    \n",
              "</tr>\n",
              "</table>\n",
              "<table class=\"simpletable\">\n",
              "<tr>\n",
              "         <td></td>           <th>coef</th>     <th>std err</th>      <th>t</th>      <th>P>|t|</th>  <th>[0.025</th>    <th>0.975]</th>  \n",
              "</tr>\n",
              "<tr>\n",
              "  <th>const</th>          <td>  919.3054</td> <td>   93.538</td> <td>    9.828</td> <td> 0.000</td> <td>  735.757</td> <td> 1102.854</td>\n",
              "</tr>\n",
              "<tr>\n",
              "  <th>age</th>            <td>  -26.2712</td> <td>   11.277</td> <td>   -2.330</td> <td> 0.020</td> <td>  -48.399</td> <td>   -4.143</td>\n",
              "</tr>\n",
              "<tr>\n",
              "  <th>no2_class</th>      <td>    2.3263</td> <td>    0.476</td> <td>    4.890</td> <td> 0.000</td> <td>    1.393</td> <td>    3.260</td>\n",
              "</tr>\n",
              "<tr>\n",
              "  <th>f_Secondary</th>    <td>   34.8589</td> <td>    9.183</td> <td>    3.796</td> <td> 0.000</td> <td>   16.839</td> <td>   52.879</td>\n",
              "</tr>\n",
              "<tr>\n",
              "  <th>f_Primary</th>      <td>   47.6936</td> <td>   17.298</td> <td>    2.757</td> <td> 0.006</td> <td>   13.750</td> <td>   81.638</td>\n",
              "</tr>\n",
              "<tr>\n",
              "  <th>4th</th>            <td>  -90.5996</td> <td>   25.290</td> <td>   -3.582</td> <td> 0.000</td> <td> -140.226</td> <td>  -40.974</td>\n",
              "</tr>\n",
              "<tr>\n",
              "  <th>3rd</th>            <td>  -63.2986</td> <td>   14.912</td> <td>   -4.245</td> <td> 0.000</td> <td>  -92.560</td> <td>  -34.037</td>\n",
              "</tr>\n",
              "<tr>\n",
              "  <th>siblings_young</th> <td>   13.8046</td> <td>    5.803</td> <td>    2.379</td> <td> 0.018</td> <td>    2.417</td> <td>   25.192</td>\n",
              "</tr>\n",
              "<tr>\n",
              "  <th>male</th>           <td>  -49.0908</td> <td>    7.952</td> <td>   -6.173</td> <td> 0.000</td> <td>  -64.695</td> <td>  -33.487</td>\n",
              "</tr>\n",
              "<tr>\n",
              "  <th>precip</th>         <td>    5.1744</td> <td>    3.580</td> <td>    1.445</td> <td> 0.149</td> <td>   -1.851</td> <td>   12.199</td>\n",
              "</tr>\n",
              "<tr>\n",
              "  <th>green_home</th>     <td>   95.9089</td> <td>   60.115</td> <td>    1.595</td> <td> 0.111</td> <td>  -22.055</td> <td>  213.873</td>\n",
              "</tr>\n",
              "<tr>\n",
              "  <th>Primary</th>        <td>   28.5749</td> <td>   19.444</td> <td>    1.470</td> <td> 0.142</td> <td>   -9.580</td> <td>   66.730</td>\n",
              "</tr>\n",
              "<tr>\n",
              "  <th>age0</th>           <td>    5.7909</td> <td>    3.117</td> <td>    1.858</td> <td> 0.063</td> <td>   -0.326</td> <td>   11.908</td>\n",
              "</tr>\n",
              "<tr>\n",
              "  <th><Primary</th>       <td> -121.8991</td> <td>   57.624</td> <td>   -2.115</td> <td> 0.035</td> <td> -234.973</td> <td>   -8.825</td>\n",
              "</tr>\n",
              "</table>\n",
              "<table class=\"simpletable\">\n",
              "<tr>\n",
              "  <th>Omnibus:</th>       <td>48.507</td> <th>  Durbin-Watson:     </th> <td>   2.004</td>\n",
              "</tr>\n",
              "<tr>\n",
              "  <th>Prob(Omnibus):</th> <td> 0.000</td> <th>  Jarque-Bera (JB):  </th> <td>  54.355</td>\n",
              "</tr>\n",
              "<tr>\n",
              "  <th>Skew:</th>          <td> 0.558</td> <th>  Prob(JB):          </th> <td>1.57e-12</td>\n",
              "</tr>\n",
              "<tr>\n",
              "  <th>Kurtosis:</th>      <td> 3.113</td> <th>  Cond. No.          </th> <td>    820.</td>\n",
              "</tr>\n",
              "</table><br/><br/>Notes:<br/>[1] Standard Errors assume that the covariance matrix of the errors is correctly specified."
            ]
          },
          "metadata": {},
          "execution_count": 181
        }
      ]
    },
    {
      "cell_type": "code",
      "source": [
        "min_aic"
      ],
      "metadata": {
        "colab": {
          "base_uri": "https://localhost:8080/"
        },
        "id": "Wo0Q62fMMC4b",
        "outputId": "d8528d24-fe83-4e7b-b00c-a4b0b40b28ec"
      },
      "execution_count": 180,
      "outputs": [
        {
          "output_type": "execute_result",
          "data": {
            "text/plain": [
              "12996.396922202066"
            ]
          },
          "metadata": {},
          "execution_count": 180
        }
      ]
    },
    {
      "cell_type": "markdown",
      "source": [
        "Получили модель, у которой меньше AIC и больше $R_{adj}^2.$\n",
        "\n",
        "В целом регрессия значима, при этом содержит регрессоры, незначимые на уровне 95% (precip, green_home, Primary, age0)"
      ],
      "metadata": {
        "id": "lLDOWTJnMloh"
      }
    },
    {
      "cell_type": "markdown",
      "metadata": {
        "id": "0b4lDBwEwOPo"
      },
      "source": [
        "# №3 (40 баллов)"
      ]
    },
    {
      "cell_type": "markdown",
      "metadata": {
        "id": "PIC_fkyuwOPq"
      },
      "source": [
        "- Ладно, пришла пора для чего более сложного\n",
        "- В этой задаче вы сами все решаете. Более того, у вас будут даже чужие ноутбуки\n",
        "- Если вы проведете такой же анализ, что и выше, то балл за это задание будет равен 10/40\n",
        "- Чтобы получить максимальный балл за это задание, то вам нужно будет провести полноценное исследование"
      ]
    },
    {
      "cell_type": "markdown",
      "metadata": {
        "id": "LDxNwStrwOPt"
      },
      "source": [
        "- Итак, представьте себе следующую ситуацию\n",
        "- Вы участвуете в создании продукта/модели по оценке стоимости недвижимости в стартапе \n",
        "- Вы - главный аналитик, который отвечает за создание модели и презентацию ее результатов\n",
        "- Проблема в том, что вы единственный аналитик в команде. Все остальные члены команды **не имеют математического бэкграунда, они не знают никаких моделей, они никогда не занимались программированием**. Зато они очень хорошо разбираются в бизнесе\n",
        "- Вы знаете, что для тестривания модели на первом этапе подойдет [этот](https://www.kaggle.com/c/house-prices-advanced-regression-techniques/data) замечательный датасет (`HW_001_002.zip`). Там есть примеры различного анализа и моделей\n",
        "- Но вы не можете просто взять примеры оттуда:\n",
        "    - Во-первых, ваша модель должна быть линейной (хотя бы на первых порах, в будущем, после курса по ML, можете брать и нелинейные модели)\n",
        "    - Во-вторых, ваша цель не просто предсказание цены на ту или иную недвижимости, а **описание механизма ценообразования на рынке**\n",
        "    - В-третьих, вашей команде очень важно, чтобы результаты модели были адекватными. **За каждой из включенных переменных должна стоять гипотеза о том, почему эта переменная влияет на цену**. Значимость переменной не является достаточным объяснением о включении переменной в конечную модель\n",
        "- Помните, что это лишь первая версия модели. Основая цель для текущего анализа - это понимание того, \n",
        "    - какие данные есть, \n",
        "    - как они \"выглядят\", \n",
        "    - какая получается модель, \n",
        "    - какие выводы можно сделать, \n",
        "    - насколько эти выводы адекватны и соответствуют вашим гипотезам,\n",
        "    - как можно еще улучшить модель\n",
        "- Еще важный момент. Вы отправите, получившееся исследование команде, поэтому оно не должно быть большим (время на прочтение и понимание того, что происходит, не должно занимать более 10-15 минут). Помните, что у команды есть и другие задачи, поэтому позаботьтесь, чтобы исследование было:\n",
        "    - Структурированным. Можете использовать [классический](https://blogs.lse.ac.uk/impactofsocialsciences/2018/05/21/writing-a-page-turner-how-to-tell-a-story-in-your-scientific-paper/) подход к научному исследованию и добавить то, как делают [консультанты](https://strategyu.co/mckinsey-structured-problem-solving-secrets/)\n",
        "    - Отвечало на поставленную задачу\n",
        "    - Было самодостаточным (в одном jupyter файле, проще говоря)\n",
        "    - Воспроизводимым (не будет `seed`, если/где надо, будет 0 за это задание)\n",
        "    - Было не стыдно показать CEO и др. в стартапе (если графики будут без подписей осей и названия, как минимум, будет 0)"
      ]
    },
    {
      "cell_type": "code",
      "execution_count": null,
      "metadata": {
        "id": "MlR_nIxEwOPu"
      },
      "outputs": [],
      "source": []
    },
    {
      "cell_type": "markdown",
      "metadata": {
        "id": "4SKpSv-VwOPu"
      },
      "source": [
        "# №4 (20 баллов)*  \n",
        "- Это задание со звездочкой\n",
        "- Баллы за это задание идут как дополнительные баллы\n",
        "- Общий балл за это домашнее задание не может превышать 100 баллов\n",
        "- Например, если за предыдущие 3 задания было набрано 100 баллов и за это задание набрано 20 баллов, то итоговый балл будет 100 баллов. Если же за предыдущие 3 задания было набрано 90 баллов и за это задание набрано 20 баллов, то итоговый балл все равно будет 100 баллов"
      ]
    },
    {
      "cell_type": "markdown",
      "metadata": {
        "id": "_Rs_Du1XwOPv"
      },
      "source": [
        "- В далеком XIX веке в Лондоне была эпидемия холеры\n",
        "- В те времена считалось, что холера передается воздушно-капельным путем\n",
        "- Но один ученый заподозрил, что это не так. Кол-во заболеваний не уменьшалось при соблюдении всех мер предосторожности при такой передаче заболевания\n",
        "- Ученого звали John Snow ([Snow 1855](https://mixtape.scunning.com/references.html#ref-Snow1854))\n",
        "- Разберем его идею к дизайну эксперимента "
      ]
    },
    {
      "cell_type": "markdown",
      "metadata": {
        "id": "jkwiM9zwwOPv"
      },
      "source": [
        "**Нулевая гипотеза: холера передается водоснабжением**"
      ]
    },
    {
      "cell_type": "markdown",
      "metadata": {
        "id": "iId5p5I_wOPv"
      },
      "source": [
        "- Как бы это проверяли, если бы имели бесконечные ресуры? Опишите идеальный эксперимент."
      ]
    },
    {
      "cell_type": "markdown",
      "source": [
        "Взяли выборку из здоровых людей, случайно разделили на 3 группы:\n",
        "- те, кого попытались заразить воздушно-капельным путем (был контакт с больным человеком)\n",
        "- те, кого попытались заразить через водоснабжение\n",
        "\n",
        "Через какое-то время проверить гипотезу о равенстве средних в этих группах.\n"
      ],
      "metadata": {
        "id": "rWcU4yGK2aQf"
      }
    },
    {
      "cell_type": "markdown",
      "metadata": {
        "id": "Sx77yB80wOPw"
      },
      "source": [
        "- Но такого сделать мы, конечно, не можем. Однако у нас есть следующая информация\n",
        "- В 1800-х несколько водоснабжающих компанй обслуживали город. Они все брали воду из Темзы, которая, если верить нашей гипотезе, была зараженной\n",
        "- Но в 1849 компания Lambeth передвинула свои трубу выше по течению, а компании Southwark и Vauxhall Waterworks Company нет\n",
        "- Как бы нам это использовать для проверки нашей гипотезы?"
      ]
    },
    {
      "cell_type": "markdown",
      "metadata": {
        "id": "g6LavZQawOPx"
      },
      "source": [
        "Можно предположить, что заболеваемость в домах Southwark и Vauxhall Waterworks Company после 1849 года -- прокси для дома Lambeth, если бы компания не передвинула свои трубы.\n",
        "\n",
        "Тогда население домов, обслуживаемых компаниями Southwark и Vauxhall Waterworks Company будем считать контрольной выборкой (для них ничего не изменилось).\n",
        "\n",
        "Население домов обслуживаемых компанией Lambeth -- тестовой.\n",
        "\n"
      ]
    },
    {
      "cell_type": "markdown",
      "metadata": {
        "id": "RZ8PLCcSwOPx"
      },
      "source": [
        "- Ниже представлена таблица со смертностью в 1849 г. и 1854 г. для потребителей двух разных компаний\n",
        "\n",
        "|Компания\\Год|1849|1854|\n",
        "|---|---|---|\n",
        "|Southwark and Vauxhall|135|147|\n",
        "|Lambeth|85|19|"
      ]
    },
    {
      "cell_type": "markdown",
      "metadata": {
        "id": "9CMpGm2SwOPy"
      },
      "source": [
        "- Пусть $Y$ - это смертность\n",
        "- Пусть $D$ - это влияние чистой воды на смертность от холеры (очевидно, если нулевая гипотеза верна, то это влияние отрицательное)\n",
        "- Пусть $L$ и $SV$ - это фиксированный эффект\\влияние специфичный для каждой из компаний Lambeth и Southwark and Vauxhall, соответственно. Например, у них могут быть разные трубы и\\или системы очистки воды"
      ]
    },
    {
      "cell_type": "markdown",
      "metadata": {
        "id": "0uN-k77RwOPy"
      },
      "source": [
        "|Компания|Результат|\n",
        "|---|---|\n",
        "|Southwark and Vauxhall|$$Y=SV$$|\n",
        "|Lambeth|$$Y=L+D$$|"
      ]
    },
    {
      "cell_type": "markdown",
      "metadata": {
        "id": "8IGVDg6OwOPy"
      },
      "source": [
        "- Почему мы не можем просто вычесть из результата Lambeth результат Southwark and Vauxhall?"
      ]
    },
    {
      "cell_type": "markdown",
      "metadata": {
        "id": "XUUH0b-CwOPz"
      },
      "source": [
        "Не учитывается момент, когда источник воды в этих компаниях стал отличаться"
      ]
    },
    {
      "cell_type": "markdown",
      "metadata": {
        "id": "Dj-oL5PHwOPz"
      },
      "source": [
        "- Однако, у нас еще есть временные данные\n",
        "- Пусть $T$ - это некий временной эффект"
      ]
    },
    {
      "cell_type": "markdown",
      "metadata": {
        "id": "IzPfmFtqwOPz"
      },
      "source": [
        "|Компания|Время|Результат|\n",
        "|---|---|---|\n",
        "|Lambeth|До|$$Y=L$$|\n",
        "||После|$$Y=L+D+T$$|"
      ]
    },
    {
      "cell_type": "markdown",
      "metadata": {
        "id": "auzM55x9wOP0"
      },
      "source": [
        "- Как будет выглядеть эта табличка для Southwark and Vauxhall?\n",
        "- Чему будет равно $D$ на тех данных, что были выше?"
      ]
    },
    {
      "cell_type": "markdown",
      "source": [
        "|Компания|Время|Результат|\n",
        "|---|---|---|\n",
        "|Southwark and Vauxhall|До|$$Y=SV$$|\n",
        "||После|$$Y=SV+T$$|"
      ],
      "metadata": {
        "id": "bbYvyxdf6WwJ"
      }
    },
    {
      "cell_type": "markdown",
      "source": [
        "Тогда $D=\\overline{Y_L|post}-\\overline{Y_L|pre}-(\\overline{Y_{SV}|post}-\\overline{Y_{SV}|pre})$"
      ],
      "metadata": {
        "id": "4TKoXA_n8Bzt"
      }
    },
    {
      "cell_type": "code",
      "execution_count": 152,
      "metadata": {
        "id": "SzIzhOc-wOP0",
        "colab": {
          "base_uri": "https://localhost:8080/"
        },
        "outputId": "3a0de353-071f-4c10-fda7-f10abdc6fe26"
      },
      "outputs": [
        {
          "output_type": "execute_result",
          "data": {
            "text/plain": [
              "-78"
            ]
          },
          "metadata": {},
          "execution_count": 152
        }
      ],
      "source": [
        "d = 19-85-147+135\n",
        "d"
      ]
    },
    {
      "cell_type": "markdown",
      "metadata": {
        "id": "GpeiEWhiwOP0"
      },
      "source": [
        "- То, что вы проделали выше называется `DiD` (difference in differences). Это замечательный метод, который позволяет вам контролировать эффект от эксперимента (`treatment`) на какие-то другие переменные\n",
        "- Он, отнюдь, не ограничивается временным эффектом, но для простоты задания не будет заходить дальше\n",
        "- Давайте немного формул для понимания того, что было вами проделано. \n",
        "    - Вы нашли `D` - эффект, который оказала чистая вода на смертность от холеры. В идеальном мире, мы с вами бы его считали, как $E[Y_{T=1, S=1} - Y_{T=1, S=0}]$, т.е. уровень смертности в один и тот же момент времени ($T=1$) для контрольной ($S=0$) и тестовой ($S=1$) групп. Но, такое не всегда, мягко говоря, возможно.\n",
        "    - Поэтому вам пришлось изхищряться, чтобы вычленить временной эффект, т.е. вы считали:\n",
        "    $$D = (E[Y_{T=1}|S=1] - E[Y_{T=0}|S=1]) - (E[Y_{T=1}|S=0] - E[Y_{T=0}|S=0])$$\n",
        "    - Это, конечно, замечательное число, но значимо ли оно? На этот вопрос нам с вами поможет ответить, в частности, простая линейная регрессия с дамми/бинарными переменными: $\\hat{y} = \\hat{\\beta_0} + \\hat{\\beta_1} \\cdot T + \\hat{\\beta_2} \\cdot S + \\hat{\\beta_3} \\cdot T \\cdot S$\n",
        "    - Если мы с вами посмотрим на $\\beta_0$, то при $T=0, S=0 \\rightarrow \\hat{y} = \\hat{\\beta_0} \\rightarrow E[y|T=0, S=0] = \\hat{\\beta_0}$ \n",
        "    - Хм, а если у нас $T=1, S=0 \\rightarrow \\hat{y} = \\hat{\\beta_0} + \\hat{\\beta_1} \\rightarrow \\hat{\\beta_1} = \\hat{y} - \\hat{\\beta_0} = E[y|T=1, S=0] - E[y|T=0, S=0]$\n",
        "    - А если $T=0, S=1 \\rightarrow \\hat{y} = \\hat{\\beta_0} + \\hat{\\beta_2} \\rightarrow \\hat{\\beta_2} = \\hat{y} - \\hat{\\beta_0} = E[y|T=0, S=1] - E[y|T=0, S=0]$\n",
        "    - А если \n",
        "    $$T=1, S=1 \\rightarrow \\hat{y} = \\hat{\\beta_0} + \\hat{\\beta_1} + \\hat{\\beta_2} +\\hat{\\beta_3} \\rightarrow \\\\\n",
        "    E[y|T=1, S=1] = E[y|T=0, S=0] + (E[y|T=1, S=0] - E[y|T=0, S=0]) + (E[y|T=0, S=1] - E[y|T=0, S=0]) +\\hat{\\beta_3} \\rightarrow \\\\\n",
        "    \\hat{\\beta_3} = (E[y|T=1, S=1] - E[y|T=0, S=1]) - (E[y|T=1, S=0] - E[y|T=0, S=0])$$\n",
        "    - А вот и наш эффект, который мы так хотели посчитать и проверить на стат. значимость. Думаю, что вы уже знаете, как проверять стат. значимость коэффициентов линейной регрессии."
      ]
    },
    {
      "cell_type": "markdown",
      "metadata": {
        "id": "aGKIZeKUwOP1"
      },
      "source": [
        "- Перейдем к чему-то с данными\n",
        "- Надо понять маркетинговый эффект от рекламы на билбордах на увеличение депозитов ($\\text{deposits}$) с мая ($JUL = 0$) по июль ($JUL = 1$)\n",
        "- Всего есть 3 билборда в городе Porto Alegre ($POA = 1$) и никаких наших билбордов в городе Florianopolis ($POA = 0$)\n",
        "- Посчитайте эффект от рекламы и проверьте его на значимость"
      ]
    },
    {
      "cell_type": "code",
      "execution_count": null,
      "metadata": {
        "ExecuteTime": {
          "end_time": "2022-08-08T16:50:20.472260Z",
          "start_time": "2022-08-08T16:50:19.366261Z"
        },
        "scrolled": true,
        "id": "2rE7ldlVwOP1"
      },
      "outputs": [],
      "source": [
        "data = pd.read_csv(\"HW_001_003.csv\")\n",
        "data.head()"
      ]
    },
    {
      "cell_type": "code",
      "execution_count": null,
      "metadata": {
        "id": "v3rQbNuwwOP2"
      },
      "outputs": [],
      "source": []
    },
    {
      "cell_type": "markdown",
      "metadata": {
        "id": "SnyQRMgGwOP2"
      },
      "source": [
        "- В чем основная слабость этого подхода?"
      ]
    },
    {
      "cell_type": "markdown",
      "metadata": {
        "id": "CsFW7HeXwOP2"
      },
      "source": [
        "Выдвигается предположение, которое невозможно проверить: что тест и контроль были бы одинаковыми после момента изменения, если бы изменение не произошло (заболеваемость в домах Southwark и Vauxhall Waterworks Company после 1849 года -- прокси для дома Lambeth, если бы компания не передвинула свои трубы). Мы можем наблюдать динамику показателей в этих группах до изменения и предполагать, что она была бы такой же, если бы не изменение, но проверить мы это напрямую не можем.  "
      ]
    }
  ],
  "metadata": {
    "kernelspec": {
      "display_name": "Python 3 (ipykernel)",
      "language": "python",
      "name": "python3"
    },
    "language_info": {
      "codemirror_mode": {
        "name": "ipython",
        "version": 3
      },
      "file_extension": ".py",
      "mimetype": "text/x-python",
      "name": "python",
      "nbconvert_exporter": "python",
      "pygments_lexer": "ipython3",
      "version": "3.9.7"
    },
    "toc": {
      "base_numbering": 1,
      "nav_menu": {},
      "number_sections": true,
      "sideBar": true,
      "skip_h1_title": true,
      "title_cell": "Table of Contents",
      "title_sidebar": "Contents",
      "toc_cell": false,
      "toc_position": {},
      "toc_section_display": true,
      "toc_window_display": false
    },
    "varInspector": {
      "cols": {
        "lenName": 16,
        "lenType": 16,
        "lenVar": 40
      },
      "kernels_config": {
        "python": {
          "delete_cmd_postfix": "",
          "delete_cmd_prefix": "del ",
          "library": "var_list.py",
          "varRefreshCmd": "print(var_dic_list())"
        },
        "r": {
          "delete_cmd_postfix": ") ",
          "delete_cmd_prefix": "rm(",
          "library": "var_list.r",
          "varRefreshCmd": "cat(var_dic_list()) "
        }
      },
      "types_to_exclude": [
        "module",
        "function",
        "builtin_function_or_method",
        "instance",
        "_Feature"
      ],
      "window_display": false
    },
    "colab": {
      "provenance": []
    }
  },
  "nbformat": 4,
  "nbformat_minor": 0
}